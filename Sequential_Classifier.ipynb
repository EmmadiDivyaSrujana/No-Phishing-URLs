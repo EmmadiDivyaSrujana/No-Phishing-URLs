{
  "nbformat": 4,
  "nbformat_minor": 0,
  "metadata": {
    "kernelspec": {
      "display_name": "Python 3",
      "language": "python",
      "name": "python3"
    },
    "language_info": {
      "codemirror_mode": {
        "name": "ipython",
        "version": 3
      },
      "file_extension": ".py",
      "mimetype": "text/x-python",
      "name": "python",
      "nbconvert_exporter": "python",
      "pygments_lexer": "ipython3",
      "version": "3.7.6"
    },
    "colab": {
      "name": "Sequential Classifier.ipynb",
      "provenance": [],
      "include_colab_link": true
    }
  },
  "cells": [
    {
      "cell_type": "markdown",
      "metadata": {
        "id": "view-in-github",
        "colab_type": "text"
      },
      "source": [
        "<a href=\"https://colab.research.google.com/github/Shreya549/no-phishy/blob/master/Sequential_Classifier.ipynb\" target=\"_parent\"><img src=\"https://colab.research.google.com/assets/colab-badge.svg\" alt=\"Open In Colab\"/></a>"
      ]
    },
    {
      "cell_type": "code",
      "metadata": {
        "id": "V-hWJ80yxD63"
      },
      "source": [
        "#importing the libraries\n",
        "import numpy as np\n",
        "import matplotlib.pyplot as plt\n",
        "import pandas as pd"
      ],
      "execution_count": 1,
      "outputs": []
    },
    {
      "cell_type": "code",
      "metadata": {
        "id": "XHgaHreNxD7H",
        "outputId": "c196258f-22a9-42ad-84ce-ffce0e51c34e",
        "colab": {
          "base_uri": "https://localhost:8080/",
          "height": 239
        }
      },
      "source": [
        "url = 'https://raw.githubusercontent.com/Shreya549/no-phishy/master/final2.csv'\n",
        "dataset = pd.read_csv(url)\n",
        "dataset.head()"
      ],
      "execution_count": 3,
      "outputs": [
        {
          "output_type": "execute_result",
          "data": {
            "text/html": [
              "<div>\n",
              "<style scoped>\n",
              "    .dataframe tbody tr th:only-of-type {\n",
              "        vertical-align: middle;\n",
              "    }\n",
              "\n",
              "    .dataframe tbody tr th {\n",
              "        vertical-align: top;\n",
              "    }\n",
              "\n",
              "    .dataframe thead th {\n",
              "        text-align: right;\n",
              "    }\n",
              "</style>\n",
              "<table border=\"1\" class=\"dataframe\">\n",
              "  <thead>\n",
              "    <tr style=\"text-align: right;\">\n",
              "      <th></th>\n",
              "      <th>raw_length</th>\n",
              "      <th>https</th>\n",
              "      <th>countSubdomain</th>\n",
              "      <th>brandName</th>\n",
              "      <th>countBrand</th>\n",
              "      <th>countRandom</th>\n",
              "      <th>smallestWord</th>\n",
              "      <th>largestWord</th>\n",
              "      <th>avgWord</th>\n",
              "      <th>keyword Count</th>\n",
              "      <th>sd of words</th>\n",
              "      <th>com</th>\n",
              "      <th>www</th>\n",
              "      <th>tld</th>\n",
              "      <th>pathLen</th>\n",
              "      <th>subdomainLen</th>\n",
              "      <th>domainLen</th>\n",
              "      <th>Alexa_top_1m</th>\n",
              "      <th>domain_gibb</th>\n",
              "      <th>dash</th>\n",
              "      <th>dot</th>\n",
              "      <th>slash</th>\n",
              "      <th>at</th>\n",
              "      <th>question</th>\n",
              "      <th>ampersand</th>\n",
              "      <th>equal</th>\n",
              "      <th>underscore</th>\n",
              "      <th>countDigitSub</th>\n",
              "      <th>countDigitDom</th>\n",
              "      <th>countDigitPath</th>\n",
              "      <th>PhishingResult</th>\n",
              "    </tr>\n",
              "  </thead>\n",
              "  <tbody>\n",
              "    <tr>\n",
              "      <th>0</th>\n",
              "      <td>10</td>\n",
              "      <td>0</td>\n",
              "      <td>1</td>\n",
              "      <td>0</td>\n",
              "      <td>0</td>\n",
              "      <td>2</td>\n",
              "      <td>2</td>\n",
              "      <td>11</td>\n",
              "      <td>4</td>\n",
              "      <td>2</td>\n",
              "      <td>2.63</td>\n",
              "      <td>1</td>\n",
              "      <td>1</td>\n",
              "      <td>1</td>\n",
              "      <td>19</td>\n",
              "      <td>3</td>\n",
              "      <td>14</td>\n",
              "      <td>1</td>\n",
              "      <td>1</td>\n",
              "      <td>4</td>\n",
              "      <td>0</td>\n",
              "      <td>1</td>\n",
              "      <td>0</td>\n",
              "      <td>0</td>\n",
              "      <td>0</td>\n",
              "      <td>0</td>\n",
              "      <td>0</td>\n",
              "      <td>0</td>\n",
              "      <td>0</td>\n",
              "      <td>0</td>\n",
              "      <td>0</td>\n",
              "    </tr>\n",
              "    <tr>\n",
              "      <th>1</th>\n",
              "      <td>8</td>\n",
              "      <td>1</td>\n",
              "      <td>1</td>\n",
              "      <td>0</td>\n",
              "      <td>0</td>\n",
              "      <td>3</td>\n",
              "      <td>3</td>\n",
              "      <td>9</td>\n",
              "      <td>4</td>\n",
              "      <td>1</td>\n",
              "      <td>2.17</td>\n",
              "      <td>1</td>\n",
              "      <td>1</td>\n",
              "      <td>1</td>\n",
              "      <td>17</td>\n",
              "      <td>3</td>\n",
              "      <td>12</td>\n",
              "      <td>1</td>\n",
              "      <td>1</td>\n",
              "      <td>2</td>\n",
              "      <td>1</td>\n",
              "      <td>0</td>\n",
              "      <td>0</td>\n",
              "      <td>0</td>\n",
              "      <td>0</td>\n",
              "      <td>0</td>\n",
              "      <td>0</td>\n",
              "      <td>0</td>\n",
              "      <td>0</td>\n",
              "      <td>0</td>\n",
              "      <td>0</td>\n",
              "    </tr>\n",
              "    <tr>\n",
              "      <th>2</th>\n",
              "      <td>11</td>\n",
              "      <td>0</td>\n",
              "      <td>1</td>\n",
              "      <td>0</td>\n",
              "      <td>0</td>\n",
              "      <td>3</td>\n",
              "      <td>1</td>\n",
              "      <td>9</td>\n",
              "      <td>4</td>\n",
              "      <td>3</td>\n",
              "      <td>2.15</td>\n",
              "      <td>1</td>\n",
              "      <td>1</td>\n",
              "      <td>1</td>\n",
              "      <td>17</td>\n",
              "      <td>3</td>\n",
              "      <td>12</td>\n",
              "      <td>1</td>\n",
              "      <td>1</td>\n",
              "      <td>0</td>\n",
              "      <td>1</td>\n",
              "      <td>2</td>\n",
              "      <td>0</td>\n",
              "      <td>0</td>\n",
              "      <td>0</td>\n",
              "      <td>0</td>\n",
              "      <td>3</td>\n",
              "      <td>7</td>\n",
              "      <td>2</td>\n",
              "      <td>0</td>\n",
              "      <td>0</td>\n",
              "    </tr>\n",
              "    <tr>\n",
              "      <th>3</th>\n",
              "      <td>8</td>\n",
              "      <td>1</td>\n",
              "      <td>1</td>\n",
              "      <td>0</td>\n",
              "      <td>0</td>\n",
              "      <td>3</td>\n",
              "      <td>2</td>\n",
              "      <td>8</td>\n",
              "      <td>4</td>\n",
              "      <td>0</td>\n",
              "      <td>2.14</td>\n",
              "      <td>1</td>\n",
              "      <td>0</td>\n",
              "      <td>1</td>\n",
              "      <td>13</td>\n",
              "      <td>3</td>\n",
              "      <td>8</td>\n",
              "      <td>0</td>\n",
              "      <td>1</td>\n",
              "      <td>0</td>\n",
              "      <td>1</td>\n",
              "      <td>2</td>\n",
              "      <td>0</td>\n",
              "      <td>0</td>\n",
              "      <td>0</td>\n",
              "      <td>0</td>\n",
              "      <td>0</td>\n",
              "      <td>7</td>\n",
              "      <td>2</td>\n",
              "      <td>0</td>\n",
              "      <td>0</td>\n",
              "    </tr>\n",
              "    <tr>\n",
              "      <th>4</th>\n",
              "      <td>8</td>\n",
              "      <td>0</td>\n",
              "      <td>1</td>\n",
              "      <td>0</td>\n",
              "      <td>0</td>\n",
              "      <td>3</td>\n",
              "      <td>2</td>\n",
              "      <td>10</td>\n",
              "      <td>4</td>\n",
              "      <td>2</td>\n",
              "      <td>2.60</td>\n",
              "      <td>1</td>\n",
              "      <td>1</td>\n",
              "      <td>1</td>\n",
              "      <td>14</td>\n",
              "      <td>3</td>\n",
              "      <td>9</td>\n",
              "      <td>1</td>\n",
              "      <td>1</td>\n",
              "      <td>0</td>\n",
              "      <td>0</td>\n",
              "      <td>1</td>\n",
              "      <td>0</td>\n",
              "      <td>0</td>\n",
              "      <td>0</td>\n",
              "      <td>0</td>\n",
              "      <td>2</td>\n",
              "      <td>0</td>\n",
              "      <td>2</td>\n",
              "      <td>0</td>\n",
              "      <td>0</td>\n",
              "    </tr>\n",
              "  </tbody>\n",
              "</table>\n",
              "</div>"
            ],
            "text/plain": [
              "   raw_length  https  ...  countDigitPath  PhishingResult\n",
              "0          10      0  ...               0               0\n",
              "1           8      1  ...               0               0\n",
              "2          11      0  ...               0               0\n",
              "3           8      1  ...               0               0\n",
              "4           8      0  ...               0               0\n",
              "\n",
              "[5 rows x 31 columns]"
            ]
          },
          "metadata": {
            "tags": []
          },
          "execution_count": 3
        }
      ]
    },
    {
      "cell_type": "code",
      "metadata": {
        "id": "7BODLsXq05wl"
      },
      "source": [
        "X = dataset.iloc[:, :30] #input values\n",
        "y = dataset.iloc[:, 30] # target column"
      ],
      "execution_count": 4,
      "outputs": []
    },
    {
      "cell_type": "code",
      "metadata": {
        "id": "05ziyM9mxD7U"
      },
      "source": [
        "# Splitting the dataset into the Training set and Test set\n",
        "from sklearn.model_selection import train_test_split\n",
        "X_train, X_test, y_train, y_test = train_test_split(X, y, test_size = 0.2, random_state = 0)"
      ],
      "execution_count": 5,
      "outputs": []
    },
    {
      "cell_type": "code",
      "metadata": {
        "id": "6K215dXVxD7h"
      },
      "source": [
        "# Feature Scaling using normalization where sd = 1 mean = 0\n",
        "from sklearn.preprocessing import StandardScaler\n",
        "sc = StandardScaler()\n",
        "X_train = sc.fit_transform(X_train)\n",
        "X_test = sc.transform(X_test)"
      ],
      "execution_count": 6,
      "outputs": []
    },
    {
      "cell_type": "code",
      "metadata": {
        "id": "gmyTcbDYxD7t"
      },
      "source": [
        "# Importing the Keras libraries and packages for applying deep learning algorithm\n",
        "import keras\n",
        "from keras.models import Sequential\n",
        "from keras.layers import Dense"
      ],
      "execution_count": 8,
      "outputs": []
    },
    {
      "cell_type": "code",
      "metadata": {
        "id": "biuFWW8txD79"
      },
      "source": [
        "# Initialising the ANN\n",
        "classifier = Sequential()"
      ],
      "execution_count": 9,
      "outputs": []
    },
    {
      "cell_type": "code",
      "metadata": {
        "id": "DwIxawlz1sHF"
      },
      "source": [
        "# Adding the input layer and the first hidden layer\n",
        "classifier.add(Dense(units = 16, kernel_initializer = 'uniform', activation = 'relu', input_dim = 30))"
      ],
      "execution_count": 10,
      "outputs": []
    },
    {
      "cell_type": "code",
      "metadata": {
        "id": "cIk234N_1wxc"
      },
      "source": [
        "# Adding the second hidden layer\n",
        "classifier.add(Dense(units = 16, kernel_initializer = 'uniform', activation = 'relu'))"
      ],
      "execution_count": 11,
      "outputs": []
    },
    {
      "cell_type": "code",
      "metadata": {
        "id": "3tWZCZQa1yTM"
      },
      "source": [
        "# Adding the output layer\n",
        "classifier.add(Dense(units = 1, kernel_initializer = 'uniform', activation = 'sigmoid'))"
      ],
      "execution_count": 12,
      "outputs": []
    },
    {
      "cell_type": "code",
      "metadata": {
        "id": "Nw46ynec169B"
      },
      "source": [
        "# Compiling the ANN\n",
        "classifier.compile(optimizer = 'adam', loss = 'binary_crossentropy', metrics = ['accuracy'])"
      ],
      "execution_count": 13,
      "outputs": []
    },
    {
      "cell_type": "code",
      "metadata": {
        "id": "JLkoM-_91_Cw",
        "outputId": "f302eb9e-899d-4a6c-ab09-d9287f00502f",
        "colab": {
          "base_uri": "https://localhost:8080/",
          "height": 1000
        }
      },
      "source": [
        "# Fitting the ANN to the Training set\n",
        "classifier.fit(X_train, y_train, batch_size = 10, epochs = 100)"
      ],
      "execution_count": 17,
      "outputs": [
        {
          "output_type": "stream",
          "text": [
            "Epoch 1/100\n",
            "5886/5886 [==============================] - 9s 2ms/step - loss: 0.0656 - accuracy: 0.9779\n",
            "Epoch 2/100\n",
            "5886/5886 [==============================] - 9s 2ms/step - loss: 0.0650 - accuracy: 0.9784\n",
            "Epoch 3/100\n",
            "5886/5886 [==============================] - 9s 2ms/step - loss: 0.0638 - accuracy: 0.9788\n",
            "Epoch 4/100\n",
            "5886/5886 [==============================] - 9s 2ms/step - loss: 0.0636 - accuracy: 0.9786\n",
            "Epoch 5/100\n",
            "5886/5886 [==============================] - 9s 2ms/step - loss: 0.0632 - accuracy: 0.9785\n",
            "Epoch 6/100\n",
            "5886/5886 [==============================] - 9s 2ms/step - loss: 0.0624 - accuracy: 0.9790\n",
            "Epoch 7/100\n",
            "5886/5886 [==============================] - 9s 2ms/step - loss: 0.0619 - accuracy: 0.9789\n",
            "Epoch 8/100\n",
            "5886/5886 [==============================] - 9s 2ms/step - loss: 0.0609 - accuracy: 0.9792\n",
            "Epoch 9/100\n",
            "5886/5886 [==============================] - 9s 2ms/step - loss: 0.0613 - accuracy: 0.9792\n",
            "Epoch 10/100\n",
            "5886/5886 [==============================] - 9s 2ms/step - loss: 0.0604 - accuracy: 0.9801\n",
            "Epoch 11/100\n",
            "5886/5886 [==============================] - 9s 2ms/step - loss: 0.0599 - accuracy: 0.9800\n",
            "Epoch 12/100\n",
            "5886/5886 [==============================] - 9s 2ms/step - loss: 0.0596 - accuracy: 0.9800\n",
            "Epoch 13/100\n",
            "5886/5886 [==============================] - 9s 1ms/step - loss: 0.0593 - accuracy: 0.9803\n",
            "Epoch 14/100\n",
            "5886/5886 [==============================] - 9s 2ms/step - loss: 0.0586 - accuracy: 0.9805\n",
            "Epoch 15/100\n",
            "5886/5886 [==============================] - 9s 2ms/step - loss: 0.0589 - accuracy: 0.9801\n",
            "Epoch 16/100\n",
            "5886/5886 [==============================] - 9s 2ms/step - loss: 0.0588 - accuracy: 0.9806\n",
            "Epoch 17/100\n",
            "5886/5886 [==============================] - 9s 2ms/step - loss: 0.0581 - accuracy: 0.9806\n",
            "Epoch 18/100\n",
            "5886/5886 [==============================] - 9s 2ms/step - loss: 0.0577 - accuracy: 0.9806\n",
            "Epoch 19/100\n",
            "5886/5886 [==============================] - 9s 2ms/step - loss: 0.0574 - accuracy: 0.9811\n",
            "Epoch 20/100\n",
            "5886/5886 [==============================] - 9s 2ms/step - loss: 0.0575 - accuracy: 0.9808\n",
            "Epoch 21/100\n",
            "5886/5886 [==============================] - 9s 2ms/step - loss: 0.0571 - accuracy: 0.9813\n",
            "Epoch 22/100\n",
            "5886/5886 [==============================] - 9s 2ms/step - loss: 0.0564 - accuracy: 0.9813\n",
            "Epoch 23/100\n",
            "5886/5886 [==============================] - 9s 2ms/step - loss: 0.0565 - accuracy: 0.9813\n",
            "Epoch 24/100\n",
            "5886/5886 [==============================] - 9s 2ms/step - loss: 0.0559 - accuracy: 0.9818\n",
            "Epoch 25/100\n",
            "5886/5886 [==============================] - 9s 2ms/step - loss: 0.0559 - accuracy: 0.9815\n",
            "Epoch 26/100\n",
            "5886/5886 [==============================] - 9s 2ms/step - loss: 0.0557 - accuracy: 0.9818\n",
            "Epoch 27/100\n",
            "5886/5886 [==============================] - 9s 2ms/step - loss: 0.0554 - accuracy: 0.9814\n",
            "Epoch 28/100\n",
            "5886/5886 [==============================] - 9s 2ms/step - loss: 0.0552 - accuracy: 0.9819\n",
            "Epoch 29/100\n",
            "5886/5886 [==============================] - 9s 2ms/step - loss: 0.0550 - accuracy: 0.9818\n",
            "Epoch 30/100\n",
            "5886/5886 [==============================] - 9s 2ms/step - loss: 0.0547 - accuracy: 0.9819\n",
            "Epoch 31/100\n",
            "5886/5886 [==============================] - 9s 2ms/step - loss: 0.0546 - accuracy: 0.9820\n",
            "Epoch 32/100\n",
            "5886/5886 [==============================] - 9s 2ms/step - loss: 0.0545 - accuracy: 0.9820\n",
            "Epoch 33/100\n",
            "5886/5886 [==============================] - 9s 2ms/step - loss: 0.0545 - accuracy: 0.9824\n",
            "Epoch 34/100\n",
            "5886/5886 [==============================] - 9s 2ms/step - loss: 0.0538 - accuracy: 0.9826\n",
            "Epoch 35/100\n",
            "5886/5886 [==============================] - 10s 2ms/step - loss: 0.0538 - accuracy: 0.9828\n",
            "Epoch 36/100\n",
            "5886/5886 [==============================] - 9s 2ms/step - loss: 0.0541 - accuracy: 0.9826\n",
            "Epoch 37/100\n",
            "5886/5886 [==============================] - 9s 2ms/step - loss: 0.0539 - accuracy: 0.9823\n",
            "Epoch 38/100\n",
            "5886/5886 [==============================] - 9s 2ms/step - loss: 0.0533 - accuracy: 0.9826\n",
            "Epoch 39/100\n",
            "5886/5886 [==============================] - 9s 2ms/step - loss: 0.0534 - accuracy: 0.9829\n",
            "Epoch 40/100\n",
            "5886/5886 [==============================] - 9s 2ms/step - loss: 0.0536 - accuracy: 0.9826\n",
            "Epoch 41/100\n",
            "5886/5886 [==============================] - 9s 2ms/step - loss: 0.0532 - accuracy: 0.9831\n",
            "Epoch 42/100\n",
            "5886/5886 [==============================] - 9s 2ms/step - loss: 0.0528 - accuracy: 0.9830\n",
            "Epoch 43/100\n",
            "5886/5886 [==============================] - 9s 2ms/step - loss: 0.0529 - accuracy: 0.9829\n",
            "Epoch 44/100\n",
            "5886/5886 [==============================] - 9s 2ms/step - loss: 0.0529 - accuracy: 0.9827\n",
            "Epoch 45/100\n",
            "5886/5886 [==============================] - 9s 2ms/step - loss: 0.0526 - accuracy: 0.9828\n",
            "Epoch 46/100\n",
            "5886/5886 [==============================] - 9s 2ms/step - loss: 0.0523 - accuracy: 0.9831\n",
            "Epoch 47/100\n",
            "5886/5886 [==============================] - 9s 2ms/step - loss: 0.0521 - accuracy: 0.9830\n",
            "Epoch 48/100\n",
            "5886/5886 [==============================] - 9s 2ms/step - loss: 0.0518 - accuracy: 0.9833\n",
            "Epoch 49/100\n",
            "5886/5886 [==============================] - 9s 2ms/step - loss: 0.0516 - accuracy: 0.9830\n",
            "Epoch 50/100\n",
            "5886/5886 [==============================] - 9s 2ms/step - loss: 0.0514 - accuracy: 0.9837\n",
            "Epoch 51/100\n",
            "5886/5886 [==============================] - 9s 2ms/step - loss: 0.0514 - accuracy: 0.9839\n",
            "Epoch 52/100\n",
            "5886/5886 [==============================] - 9s 2ms/step - loss: 0.0514 - accuracy: 0.9836\n",
            "Epoch 53/100\n",
            "5886/5886 [==============================] - 9s 2ms/step - loss: 0.0513 - accuracy: 0.9836\n",
            "Epoch 54/100\n",
            "5886/5886 [==============================] - 9s 2ms/step - loss: 0.0512 - accuracy: 0.9833\n",
            "Epoch 55/100\n",
            "5886/5886 [==============================] - 9s 2ms/step - loss: 0.0512 - accuracy: 0.9834\n",
            "Epoch 56/100\n",
            "5886/5886 [==============================] - 9s 2ms/step - loss: 0.0507 - accuracy: 0.9841\n",
            "Epoch 57/100\n",
            "5886/5886 [==============================] - 9s 2ms/step - loss: 0.0505 - accuracy: 0.9840\n",
            "Epoch 58/100\n",
            "5886/5886 [==============================] - 9s 2ms/step - loss: 0.0504 - accuracy: 0.9835\n",
            "Epoch 59/100\n",
            "5886/5886 [==============================] - 9s 2ms/step - loss: 0.0507 - accuracy: 0.9839\n",
            "Epoch 60/100\n",
            "5886/5886 [==============================] - 9s 2ms/step - loss: 0.0505 - accuracy: 0.9836\n",
            "Epoch 61/100\n",
            "5886/5886 [==============================] - 9s 2ms/step - loss: 0.0502 - accuracy: 0.9842\n",
            "Epoch 62/100\n",
            "5886/5886 [==============================] - 9s 2ms/step - loss: 0.0502 - accuracy: 0.9840\n",
            "Epoch 63/100\n",
            "5886/5886 [==============================] - 9s 2ms/step - loss: 0.0502 - accuracy: 0.9837\n",
            "Epoch 64/100\n",
            "5886/5886 [==============================] - 9s 2ms/step - loss: 0.0501 - accuracy: 0.9840\n",
            "Epoch 65/100\n",
            "5886/5886 [==============================] - 9s 2ms/step - loss: 0.0500 - accuracy: 0.9846\n",
            "Epoch 66/100\n",
            "5886/5886 [==============================] - 9s 2ms/step - loss: 0.0497 - accuracy: 0.9843\n",
            "Epoch 67/100\n",
            "5886/5886 [==============================] - 9s 2ms/step - loss: 0.0495 - accuracy: 0.9845\n",
            "Epoch 68/100\n",
            "5886/5886 [==============================] - 9s 2ms/step - loss: 0.0496 - accuracy: 0.9838\n",
            "Epoch 69/100\n",
            "5886/5886 [==============================] - 9s 2ms/step - loss: 0.0495 - accuracy: 0.9844\n",
            "Epoch 70/100\n",
            "5886/5886 [==============================] - 10s 2ms/step - loss: 0.0495 - accuracy: 0.9843\n",
            "Epoch 71/100\n",
            "5886/5886 [==============================] - 9s 2ms/step - loss: 0.0493 - accuracy: 0.9845\n",
            "Epoch 72/100\n",
            "5886/5886 [==============================] - 9s 2ms/step - loss: 0.0490 - accuracy: 0.9845\n",
            "Epoch 73/100\n",
            "5886/5886 [==============================] - 9s 2ms/step - loss: 0.0490 - accuracy: 0.9845\n",
            "Epoch 74/100\n",
            "5886/5886 [==============================] - 9s 2ms/step - loss: 0.0492 - accuracy: 0.9842\n",
            "Epoch 75/100\n",
            "5886/5886 [==============================] - 9s 2ms/step - loss: 0.0492 - accuracy: 0.9844\n",
            "Epoch 76/100\n",
            "5886/5886 [==============================] - 9s 2ms/step - loss: 0.0490 - accuracy: 0.9844\n",
            "Epoch 77/100\n",
            "5886/5886 [==============================] - 9s 2ms/step - loss: 0.0488 - accuracy: 0.9846\n",
            "Epoch 78/100\n",
            "5886/5886 [==============================] - 9s 2ms/step - loss: 0.0489 - accuracy: 0.9847\n",
            "Epoch 79/100\n",
            "5886/5886 [==============================] - 9s 2ms/step - loss: 0.0489 - accuracy: 0.9844\n",
            "Epoch 80/100\n",
            "5886/5886 [==============================] - 9s 2ms/step - loss: 0.0486 - accuracy: 0.9848\n",
            "Epoch 81/100\n",
            "5886/5886 [==============================] - 9s 2ms/step - loss: 0.0486 - accuracy: 0.9846\n",
            "Epoch 82/100\n",
            "5886/5886 [==============================] - 9s 2ms/step - loss: 0.0485 - accuracy: 0.9845\n",
            "Epoch 83/100\n",
            "5886/5886 [==============================] - 9s 2ms/step - loss: 0.0486 - accuracy: 0.9846\n",
            "Epoch 84/100\n",
            "5886/5886 [==============================] - 9s 2ms/step - loss: 0.0485 - accuracy: 0.9846\n",
            "Epoch 85/100\n",
            "5886/5886 [==============================] - 10s 2ms/step - loss: 0.0485 - accuracy: 0.9846\n",
            "Epoch 86/100\n",
            "5886/5886 [==============================] - 10s 2ms/step - loss: 0.0486 - accuracy: 0.9845\n",
            "Epoch 87/100\n",
            "5886/5886 [==============================] - 9s 2ms/step - loss: 0.0482 - accuracy: 0.9847\n",
            "Epoch 88/100\n",
            "5886/5886 [==============================] - 10s 2ms/step - loss: 0.0483 - accuracy: 0.9845\n",
            "Epoch 89/100\n",
            "5886/5886 [==============================] - 9s 2ms/step - loss: 0.0485 - accuracy: 0.9847\n",
            "Epoch 90/100\n",
            "5886/5886 [==============================] - 9s 2ms/step - loss: 0.0483 - accuracy: 0.9845\n",
            "Epoch 91/100\n",
            "5886/5886 [==============================] - 9s 2ms/step - loss: 0.0478 - accuracy: 0.9846\n",
            "Epoch 92/100\n",
            "5886/5886 [==============================] - 9s 2ms/step - loss: 0.0485 - accuracy: 0.9845\n",
            "Epoch 93/100\n",
            "5886/5886 [==============================] - 9s 2ms/step - loss: 0.0481 - accuracy: 0.9850\n",
            "Epoch 94/100\n",
            "5886/5886 [==============================] - 9s 2ms/step - loss: 0.0481 - accuracy: 0.9842\n",
            "Epoch 95/100\n",
            "5886/5886 [==============================] - 9s 2ms/step - loss: 0.0482 - accuracy: 0.9846\n",
            "Epoch 96/100\n",
            "5886/5886 [==============================] - 10s 2ms/step - loss: 0.0483 - accuracy: 0.9848\n",
            "Epoch 97/100\n",
            "5886/5886 [==============================] - 9s 2ms/step - loss: 0.0479 - accuracy: 0.9847\n",
            "Epoch 98/100\n",
            "5886/5886 [==============================] - 9s 2ms/step - loss: 0.0481 - accuracy: 0.9850\n",
            "Epoch 99/100\n",
            "5886/5886 [==============================] - 10s 2ms/step - loss: 0.0478 - accuracy: 0.9850\n",
            "Epoch 100/100\n",
            "5886/5886 [==============================] - 9s 2ms/step - loss: 0.0481 - accuracy: 0.9847\n"
          ],
          "name": "stdout"
        },
        {
          "output_type": "execute_result",
          "data": {
            "text/plain": [
              "<tensorflow.python.keras.callbacks.History at 0x7f8bfc0677b8>"
            ]
          },
          "metadata": {
            "tags": []
          },
          "execution_count": 17
        }
      ]
    },
    {
      "cell_type": "markdown",
      "metadata": {
        "id": "01bSdJ2Id16q"
      },
      "source": [
        "**The model has classified using an accuracy of 98.4%**"
      ]
    },
    {
      "cell_type": "code",
      "metadata": {
        "id": "y-LU5NpoAsc4"
      },
      "source": [
        "# Predicting the Test set results\n",
        "y_pred = classifier.predict(X_test)\n",
        "y_pred = (y_pred > 0.5)"
      ],
      "execution_count": null,
      "outputs": []
    },
    {
      "cell_type": "code",
      "metadata": {
        "id": "978OpximBAUX",
        "outputId": "147458b5-a12b-4f5a-ef01-047712eab78b",
        "colab": {
          "base_uri": "https://localhost:8080/",
          "height": 52
        }
      },
      "source": [
        "# Making the Confusion Matrix for test data\n",
        "from sklearn.metrics import confusion_matrix\n",
        "cm = confusion_matrix(y_test, y_pred)\n",
        "cm"
      ],
      "execution_count": null,
      "outputs": [
        {
          "output_type": "execute_result",
          "data": {
            "text/plain": [
              "array([[6970,  170],\n",
              "       [ 136, 7439]])"
            ]
          },
          "metadata": {
            "tags": []
          },
          "execution_count": 14
        }
      ]
    }
  ]
}