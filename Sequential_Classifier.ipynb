{
  "nbformat": 4,
  "nbformat_minor": 0,
  "metadata": {
    "kernelspec": {
      "display_name": "Python 3",
      "language": "python",
      "name": "python3"
    },
    "language_info": {
      "codemirror_mode": {
        "name": "ipython",
        "version": 3
      },
      "file_extension": ".py",
      "mimetype": "text/x-python",
      "name": "python",
      "nbconvert_exporter": "python",
      "pygments_lexer": "ipython3",
      "version": "3.7.6"
    },
    "colab": {
      "name": "Sequential Classifier.ipynb",
      "provenance": []
    }
  },
  "cells": [
    {
      "cell_type": "code",
      "metadata": {
        "id": "V-hWJ80yxD63",
        "colab_type": "code",
        "colab": {}
      },
      "source": [
        "#importing the libraries\n",
        "import numpy as np\n",
        "import matplotlib.pyplot as plt\n",
        "import pandas as pd"
      ],
      "execution_count": 1,
      "outputs": []
    },
    {
      "cell_type": "code",
      "metadata": {
        "id": "XHgaHreNxD7H",
        "colab_type": "code",
        "colab": {}
      },
      "source": [
        "url = 'cleaned_data.csv'\n",
        "dataset = pd.read_csv(url)"
      ],
      "execution_count": 2,
      "outputs": []
    },
    {
      "cell_type": "code",
      "metadata": {
        "id": "7BODLsXq05wl",
        "colab_type": "code",
        "colab": {}
      },
      "source": [
        "X = dataset.iloc[:, :30]\n",
        "y = dataset.iloc[:, 30]"
      ],
      "execution_count": 3,
      "outputs": []
    },
    {
      "cell_type": "code",
      "metadata": {
        "id": "05ziyM9mxD7U",
        "colab_type": "code",
        "colab": {}
      },
      "source": [
        "# Splitting the dataset into the Training set and Test set\n",
        "from sklearn.model_selection import train_test_split\n",
        "X_train, X_test, y_train, y_test = train_test_split(X, y, test_size = 0.2, random_state = 0)"
      ],
      "execution_count": 4,
      "outputs": []
    },
    {
      "cell_type": "code",
      "metadata": {
        "id": "6K215dXVxD7h",
        "colab_type": "code",
        "colab": {}
      },
      "source": [
        "# Feature Scaling using normalization\n",
        "from sklearn.preprocessing import StandardScaler\n",
        "sc = StandardScaler()\n",
        "X_train = sc.fit_transform(X_train)\n",
        "X_test = sc.transform(X_test)"
      ],
      "execution_count": 5,
      "outputs": []
    },
    {
      "cell_type": "code",
      "metadata": {
        "id": "gmyTcbDYxD7t",
        "colab_type": "code",
        "colab": {}
      },
      "source": [
        "# Importing the Keras libraries and packages for applying deep learning algorithm\n",
        "import keras\n",
        "from keras.models import Sequential\n",
        "from keras.layers import Dense"
      ],
      "execution_count": 6,
      "outputs": []
    },
    {
      "cell_type": "code",
      "metadata": {
        "id": "biuFWW8txD79",
        "colab_type": "code",
        "colab": {}
      },
      "source": [
        "# Initialising the ANN\n",
        "classifier = Sequential()"
      ],
      "execution_count": 7,
      "outputs": []
    },
    {
      "cell_type": "code",
      "metadata": {
        "id": "DwIxawlz1sHF",
        "colab_type": "code",
        "colab": {}
      },
      "source": [
        "# Adding the input layer and the first hidden layer\n",
        "classifier.add(Dense(units = 16, kernel_initializer = 'uniform', activation = 'relu', input_dim = 30))"
      ],
      "execution_count": 8,
      "outputs": []
    },
    {
      "cell_type": "code",
      "metadata": {
        "id": "cIk234N_1wxc",
        "colab_type": "code",
        "colab": {}
      },
      "source": [
        "# Adding the second hidden layer\n",
        "classifier.add(Dense(units = 16, kernel_initializer = 'uniform', activation = 'relu'))"
      ],
      "execution_count": 9,
      "outputs": []
    },
    {
      "cell_type": "code",
      "metadata": {
        "id": "3tWZCZQa1yTM",
        "colab_type": "code",
        "colab": {}
      },
      "source": [
        "# Adding the output layer\n",
        "classifier.add(Dense(units = 1, kernel_initializer = 'uniform', activation = 'sigmoid'))"
      ],
      "execution_count": 10,
      "outputs": []
    },
    {
      "cell_type": "code",
      "metadata": {
        "id": "Nw46ynec169B",
        "colab_type": "code",
        "colab": {}
      },
      "source": [
        "# Compiling the ANN\n",
        "classifier.compile(optimizer = 'adam', loss = 'binary_crossentropy', metrics = ['accuracy'])"
      ],
      "execution_count": 11,
      "outputs": []
    },
    {
      "cell_type": "code",
      "metadata": {
        "id": "JLkoM-_91_Cw",
        "colab_type": "code",
        "colab": {
          "base_uri": "https://localhost:8080/",
          "height": 1000
        },
        "outputId": "728b051f-989a-4813-8db1-e8be5b8c647b"
      },
      "source": [
        "# Fitting the ANN to the Training set\n",
        "classifier.fit(X_train, y_train, batch_size = 10, epochs = 100)"
      ],
      "execution_count": 12,
      "outputs": [
        {
          "output_type": "stream",
          "text": [
            "Epoch 1/100\n",
            "5886/5886 [==============================] - 7s 1ms/step - loss: 0.1177 - accuracy: 0.9639\n",
            "Epoch 2/100\n",
            "5886/5886 [==============================] - 7s 1ms/step - loss: 0.0897 - accuracy: 0.9726\n",
            "Epoch 3/100\n",
            "5886/5886 [==============================] - 7s 1ms/step - loss: 0.0846 - accuracy: 0.9742\n",
            "Epoch 4/100\n",
            "5886/5886 [==============================] - 7s 1ms/step - loss: 0.0808 - accuracy: 0.9753\n",
            "Epoch 5/100\n",
            "5886/5886 [==============================] - 6s 1ms/step - loss: 0.0778 - accuracy: 0.9760\n",
            "Epoch 6/100\n",
            "5886/5886 [==============================] - 7s 1ms/step - loss: 0.0758 - accuracy: 0.9763\n",
            "Epoch 7/100\n",
            "5886/5886 [==============================] - 6s 1ms/step - loss: 0.0736 - accuracy: 0.9766\n",
            "Epoch 8/100\n",
            "5886/5886 [==============================] - 7s 1ms/step - loss: 0.0721 - accuracy: 0.9771\n",
            "Epoch 9/100\n",
            "5886/5886 [==============================] - 7s 1ms/step - loss: 0.0712 - accuracy: 0.9774\n",
            "Epoch 10/100\n",
            "5886/5886 [==============================] - 7s 1ms/step - loss: 0.0700 - accuracy: 0.9775\n",
            "Epoch 11/100\n",
            "5886/5886 [==============================] - 6s 1ms/step - loss: 0.0691 - accuracy: 0.9778\n",
            "Epoch 12/100\n",
            "5886/5886 [==============================] - 6s 1ms/step - loss: 0.0686 - accuracy: 0.9782\n",
            "Epoch 13/100\n",
            "5886/5886 [==============================] - 7s 1ms/step - loss: 0.0679 - accuracy: 0.9778\n",
            "Epoch 14/100\n",
            "5886/5886 [==============================] - 7s 1ms/step - loss: 0.0674 - accuracy: 0.9781\n",
            "Epoch 15/100\n",
            "5886/5886 [==============================] - 8s 1ms/step - loss: 0.0666 - accuracy: 0.9784\n",
            "Epoch 16/100\n",
            "5886/5886 [==============================] - 6s 1ms/step - loss: 0.0658 - accuracy: 0.9787\n",
            "Epoch 17/100\n",
            "5886/5886 [==============================] - 7s 1ms/step - loss: 0.0656 - accuracy: 0.9787\n",
            "Epoch 18/100\n",
            "5886/5886 [==============================] - 7s 1ms/step - loss: 0.0649 - accuracy: 0.9787\n",
            "Epoch 19/100\n",
            "5886/5886 [==============================] - 7s 1ms/step - loss: 0.0641 - accuracy: 0.9790\n",
            "Epoch 20/100\n",
            "5886/5886 [==============================] - 7s 1ms/step - loss: 0.0635 - accuracy: 0.9793\n",
            "Epoch 21/100\n",
            "5886/5886 [==============================] - 7s 1ms/step - loss: 0.0629 - accuracy: 0.9794\n",
            "Epoch 22/100\n",
            "5886/5886 [==============================] - 7s 1ms/step - loss: 0.0625 - accuracy: 0.9795\n",
            "Epoch 23/100\n",
            "5886/5886 [==============================] - 7s 1ms/step - loss: 0.0614 - accuracy: 0.9796\n",
            "Epoch 24/100\n",
            "5886/5886 [==============================] - 7s 1ms/step - loss: 0.0615 - accuracy: 0.9796\n",
            "Epoch 25/100\n",
            "5886/5886 [==============================] - 7s 1ms/step - loss: 0.0606 - accuracy: 0.9801\n",
            "Epoch 26/100\n",
            "5886/5886 [==============================] - 7s 1ms/step - loss: 0.0603 - accuracy: 0.9800\n",
            "Epoch 27/100\n",
            "5886/5886 [==============================] - 8s 1ms/step - loss: 0.0598 - accuracy: 0.9802\n",
            "Epoch 28/100\n",
            "5886/5886 [==============================] - 8s 1ms/step - loss: 0.0595 - accuracy: 0.9796\n",
            "Epoch 29/100\n",
            "5886/5886 [==============================] - 8s 1ms/step - loss: 0.0590 - accuracy: 0.9800\n",
            "Epoch 30/100\n",
            "5886/5886 [==============================] - 10s 2ms/step - loss: 0.0591 - accuracy: 0.9801\n",
            "Epoch 31/100\n",
            "5886/5886 [==============================] - 8s 1ms/step - loss: 0.0584 - accuracy: 0.9809\n",
            "Epoch 32/100\n",
            "5886/5886 [==============================] - 8s 1ms/step - loss: 0.0582 - accuracy: 0.9805\n",
            "Epoch 33/100\n",
            "5886/5886 [==============================] - 8s 1ms/step - loss: 0.0583 - accuracy: 0.9805\n",
            "Epoch 34/100\n",
            "5886/5886 [==============================] - 7s 1ms/step - loss: 0.0577 - accuracy: 0.9811\n",
            "Epoch 35/100\n",
            "5886/5886 [==============================] - 7s 1ms/step - loss: 0.0577 - accuracy: 0.9811\n",
            "Epoch 36/100\n",
            "5886/5886 [==============================] - 6s 1ms/step - loss: 0.0575 - accuracy: 0.9810\n",
            "Epoch 37/100\n",
            "5886/5886 [==============================] - 7s 1ms/step - loss: 0.0575 - accuracy: 0.9810\n",
            "Epoch 38/100\n",
            "5886/5886 [==============================] - 7s 1ms/step - loss: 0.0571 - accuracy: 0.9811\n",
            "Epoch 39/100\n",
            "5886/5886 [==============================] - 7s 1ms/step - loss: 0.0566 - accuracy: 0.9810\n",
            "Epoch 40/100\n",
            "5886/5886 [==============================] - 6s 1ms/step - loss: 0.0570 - accuracy: 0.9818\n",
            "Epoch 41/100\n",
            "5886/5886 [==============================] - 7s 1ms/step - loss: 0.0565 - accuracy: 0.9813\n",
            "Epoch 42/100\n",
            "5886/5886 [==============================] - 8s 1ms/step - loss: 0.0559 - accuracy: 0.9814\n",
            "Epoch 43/100\n",
            "5886/5886 [==============================] - 7s 1ms/step - loss: 0.0564 - accuracy: 0.9817\n",
            "Epoch 44/100\n",
            "5886/5886 [==============================] - 7s 1ms/step - loss: 0.0555 - accuracy: 0.9819\n",
            "Epoch 45/100\n",
            "5886/5886 [==============================] - 7s 1ms/step - loss: 0.0554 - accuracy: 0.9816\n",
            "Epoch 46/100\n",
            "5886/5886 [==============================] - 8s 1ms/step - loss: 0.0553 - accuracy: 0.9822\n",
            "Epoch 47/100\n",
            "5886/5886 [==============================] - 7s 1ms/step - loss: 0.0553 - accuracy: 0.9818\n",
            "Epoch 48/100\n",
            "5886/5886 [==============================] - 7s 1ms/step - loss: 0.0547 - accuracy: 0.9820\n",
            "Epoch 49/100\n",
            "5886/5886 [==============================] - 7s 1ms/step - loss: 0.0544 - accuracy: 0.9820\n",
            "Epoch 50/100\n",
            "5886/5886 [==============================] - 7s 1ms/step - loss: 0.0546 - accuracy: 0.9821\n",
            "Epoch 51/100\n",
            "5886/5886 [==============================] - 7s 1ms/step - loss: 0.0541 - accuracy: 0.9821\n",
            "Epoch 52/100\n",
            "5886/5886 [==============================] - 7s 1ms/step - loss: 0.0544 - accuracy: 0.9825\n",
            "Epoch 53/100\n",
            "5886/5886 [==============================] - 7s 1ms/step - loss: 0.0536 - accuracy: 0.9821\n",
            "Epoch 54/100\n",
            "5886/5886 [==============================] - 7s 1ms/step - loss: 0.0532 - accuracy: 0.9827\n",
            "Epoch 55/100\n",
            "5886/5886 [==============================] - 7s 1ms/step - loss: 0.0535 - accuracy: 0.9821\n",
            "Epoch 56/100\n",
            "5886/5886 [==============================] - 7s 1ms/step - loss: 0.0534 - accuracy: 0.9824\n",
            "Epoch 57/100\n",
            "5886/5886 [==============================] - 7s 1ms/step - loss: 0.0530 - accuracy: 0.9827\n",
            "Epoch 58/100\n",
            "5886/5886 [==============================] - 8s 1ms/step - loss: 0.0535 - accuracy: 0.9824\n",
            "Epoch 59/100\n",
            "5886/5886 [==============================] - 7s 1ms/step - loss: 0.0529 - accuracy: 0.9824\n",
            "Epoch 60/100\n",
            "5886/5886 [==============================] - 7s 1ms/step - loss: 0.0524 - accuracy: 0.9828\n",
            "Epoch 61/100\n",
            "5886/5886 [==============================] - 7s 1ms/step - loss: 0.0524 - accuracy: 0.9828\n",
            "Epoch 62/100\n",
            "5886/5886 [==============================] - 7s 1ms/step - loss: 0.0528 - accuracy: 0.9826\n",
            "Epoch 63/100\n",
            "5886/5886 [==============================] - 7s 1ms/step - loss: 0.0523 - accuracy: 0.9828\n",
            "Epoch 64/100\n",
            "5886/5886 [==============================] - 7s 1ms/step - loss: 0.0520 - accuracy: 0.9829\n",
            "Epoch 65/100\n",
            "5886/5886 [==============================] - 7s 1ms/step - loss: 0.0523 - accuracy: 0.9827\n",
            "Epoch 66/100\n",
            "5886/5886 [==============================] - 7s 1ms/step - loss: 0.0517 - accuracy: 0.9832\n",
            "Epoch 67/100\n",
            "5886/5886 [==============================] - 7s 1ms/step - loss: 0.0513 - accuracy: 0.9831\n",
            "Epoch 68/100\n",
            "5886/5886 [==============================] - 7s 1ms/step - loss: 0.0515 - accuracy: 0.9832\n",
            "Epoch 69/100\n",
            "5886/5886 [==============================] - 7s 1ms/step - loss: 0.0514 - accuracy: 0.9833\n",
            "Epoch 70/100\n",
            "5886/5886 [==============================] - 7s 1ms/step - loss: 0.0510 - accuracy: 0.9835\n",
            "Epoch 71/100\n",
            "5886/5886 [==============================] - 7s 1ms/step - loss: 0.0516 - accuracy: 0.9829\n",
            "Epoch 72/100\n",
            "5886/5886 [==============================] - 7s 1ms/step - loss: 0.0508 - accuracy: 0.9831\n",
            "Epoch 73/100\n",
            "5886/5886 [==============================] - 7s 1ms/step - loss: 0.0517 - accuracy: 0.9829\n",
            "Epoch 74/100\n",
            "5886/5886 [==============================] - 7s 1ms/step - loss: 0.0507 - accuracy: 0.9835\n",
            "Epoch 75/100\n",
            "5886/5886 [==============================] - 8s 1ms/step - loss: 0.0507 - accuracy: 0.9831\n",
            "Epoch 76/100\n",
            "5886/5886 [==============================] - 7s 1ms/step - loss: 0.0499 - accuracy: 0.9836\n",
            "Epoch 77/100\n",
            "5886/5886 [==============================] - 7s 1ms/step - loss: 0.0505 - accuracy: 0.9831\n",
            "Epoch 78/100\n",
            "5886/5886 [==============================] - 7s 1ms/step - loss: 0.0503 - accuracy: 0.9833\n",
            "Epoch 79/100\n",
            "5886/5886 [==============================] - 6s 1ms/step - loss: 0.0500 - accuracy: 0.9837\n",
            "Epoch 80/100\n",
            "5886/5886 [==============================] - 7s 1ms/step - loss: 0.0499 - accuracy: 0.9835\n",
            "Epoch 81/100\n",
            "5886/5886 [==============================] - 7s 1ms/step - loss: 0.0501 - accuracy: 0.9832\n",
            "Epoch 82/100\n",
            "5886/5886 [==============================] - 6s 1ms/step - loss: 0.0498 - accuracy: 0.9833\n",
            "Epoch 83/100\n",
            "5886/5886 [==============================] - 6s 1ms/step - loss: 0.0498 - accuracy: 0.9835\n",
            "Epoch 84/100\n",
            "5886/5886 [==============================] - 6s 1ms/step - loss: 0.0496 - accuracy: 0.9837\n",
            "Epoch 85/100\n",
            "5886/5886 [==============================] - 7s 1ms/step - loss: 0.0496 - accuracy: 0.9837\n",
            "Epoch 86/100\n",
            "5886/5886 [==============================] - 7s 1ms/step - loss: 0.0490 - accuracy: 0.9837\n",
            "Epoch 87/100\n",
            "5886/5886 [==============================] - 7s 1ms/step - loss: 0.0494 - accuracy: 0.9835\n",
            "Epoch 88/100\n",
            "5886/5886 [==============================] - 7s 1ms/step - loss: 0.0493 - accuracy: 0.9838\n",
            "Epoch 89/100\n",
            "5886/5886 [==============================] - 7s 1ms/step - loss: 0.0495 - accuracy: 0.9838\n",
            "Epoch 90/100\n",
            "5886/5886 [==============================] - 6s 1ms/step - loss: 0.0489 - accuracy: 0.9840\n",
            "Epoch 91/100\n",
            "5886/5886 [==============================] - 6s 1ms/step - loss: 0.0491 - accuracy: 0.9838\n",
            "Epoch 92/100\n",
            "5886/5886 [==============================] - 6s 1ms/step - loss: 0.0486 - accuracy: 0.9840\n",
            "Epoch 93/100\n",
            "5886/5886 [==============================] - 6s 1ms/step - loss: 0.0481 - accuracy: 0.9845\n",
            "Epoch 94/100\n",
            "5886/5886 [==============================] - 6s 1ms/step - loss: 0.0489 - accuracy: 0.9842\n",
            "Epoch 95/100\n",
            "5886/5886 [==============================] - 7s 1ms/step - loss: 0.0482 - accuracy: 0.9846\n",
            "Epoch 96/100\n",
            "5886/5886 [==============================] - 6s 1ms/step - loss: 0.0487 - accuracy: 0.9842\n",
            "Epoch 97/100\n",
            "5886/5886 [==============================] - 6s 1ms/step - loss: 0.0487 - accuracy: 0.9842\n",
            "Epoch 98/100\n",
            "5886/5886 [==============================] - 6s 1ms/step - loss: 0.0484 - accuracy: 0.9835\n",
            "Epoch 99/100\n",
            "5886/5886 [==============================] - 6s 1ms/step - loss: 0.0485 - accuracy: 0.9843\n",
            "Epoch 100/100\n",
            "5886/5886 [==============================] - 7s 1ms/step - loss: 0.0482 - accuracy: 0.9840\n"
          ],
          "name": "stdout"
        },
        {
          "output_type": "execute_result",
          "data": {
            "text/plain": [
              "<tensorflow.python.keras.callbacks.History at 0x7fa28914dba8>"
            ]
          },
          "metadata": {
            "tags": []
          },
          "execution_count": 12
        }
      ]
    },
    {
      "cell_type": "code",
      "metadata": {
        "id": "y-LU5NpoAsc4",
        "colab_type": "code",
        "colab": {}
      },
      "source": [
        "# Predicting the Test set results\n",
        "y_pred = classifier.predict(X_test)\n",
        "y_pred = (y_pred > 0.5)"
      ],
      "execution_count": 13,
      "outputs": []
    },
    {
      "cell_type": "code",
      "metadata": {
        "id": "978OpximBAUX",
        "colab_type": "code",
        "colab": {
          "base_uri": "https://localhost:8080/",
          "height": 52
        },
        "outputId": "147458b5-a12b-4f5a-ef01-047712eab78b"
      },
      "source": [
        "# Making the Confusion Matrix for test data\n",
        "from sklearn.metrics import confusion_matrix\n",
        "cm = confusion_matrix(y_test, y_pred)\n",
        "cm"
      ],
      "execution_count": 14,
      "outputs": [
        {
          "output_type": "execute_result",
          "data": {
            "text/plain": [
              "array([[6970,  170],\n",
              "       [ 136, 7439]])"
            ]
          },
          "metadata": {
            "tags": []
          },
          "execution_count": 14
        }
      ]
    }
  ]
}