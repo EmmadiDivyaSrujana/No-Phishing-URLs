{
  "nbformat": 4,
  "nbformat_minor": 0,
  "metadata": {
    "colab": {
      "name": "MLP Classifier",
      "provenance": [],
      "authorship_tag": "ABX9TyO9HHMMwIyFbzA9DLGnUD4j",
      "include_colab_link": true
    },
    "kernelspec": {
      "name": "python3",
      "display_name": "Python 3"
    }
  },
  "cells": [
    {
      "cell_type": "markdown",
      "metadata": {
        "id": "view-in-github",
        "colab_type": "text"
      },
      "source": [
        "<a href=\"https://colab.research.google.com/github/Shreya549/no-phishy/blob/master/MLP_Classifier.ipynb\" target=\"_parent\"><img src=\"https://colab.research.google.com/assets/colab-badge.svg\" alt=\"Open In Colab\"/></a>"
      ]
    },
    {
      "cell_type": "markdown",
      "metadata": {
        "id": "qMOapYplWW0-"
      },
      "source": [
        "**Importing the libraries** "
      ]
    },
    {
      "cell_type": "code",
      "metadata": {
        "id": "3qzk3OUUPDV9"
      },
      "source": [
        "import numpy\n",
        "import sklearn\n",
        "import pandas as pd\n",
        "from sklearn.model_selection import train_test_split"
      ],
      "execution_count": 1,
      "outputs": []
    },
    {
      "cell_type": "markdown",
      "metadata": {
        "id": "HPZWLtlBWsN-"
      },
      "source": [
        "**Reading the dataset**"
      ]
    },
    {
      "cell_type": "code",
      "metadata": {
        "id": "tz9zmpAuPLzv"
      },
      "source": [
        "datatrain = pd.read_csv('https://raw.githubusercontent.com/Shreya549/no-phishy/master/final2.csv')\n",
        "datatrain = datatrain.apply(pd.to_numeric)\n",
        "datatrain_array = datatrain.values"
      ],
      "execution_count": 2,
      "outputs": []
    },
    {
      "cell_type": "markdown",
      "metadata": {
        "id": "mNTaJnMsWwIJ"
      },
      "source": [
        "**Splitting into training and testing data**"
      ]
    },
    {
      "cell_type": "code",
      "metadata": {
        "id": "-U4qXhQgP4Ca"
      },
      "source": [
        "X_train, X_test, y_train, y_test = train_test_split(datatrain_array[:,0:30],datatrain_array[:,30],test_size=0.2)"
      ],
      "execution_count": 3,
      "outputs": []
    },
    {
      "cell_type": "markdown",
      "metadata": {
        "id": "aWPXTIuSW4_7"
      },
      "source": [
        "**Scaling the data**"
      ]
    },
    {
      "cell_type": "code",
      "metadata": {
        "id": "G_FBdtE9P9fQ"
      },
      "source": [
        "from sklearn.preprocessing import StandardScaler\n",
        "sc = StandardScaler()\n",
        "X_train = sc.fit_transform(X_train)\n",
        "X_test = sc.transform(X_test)"
      ],
      "execution_count": 4,
      "outputs": []
    },
    {
      "cell_type": "code",
      "metadata": {
        "id": "WbWQr-TzQFZT"
      },
      "source": [
        "from sklearn.neural_network import MLPClassifier"
      ],
      "execution_count": 5,
      "outputs": []
    },
    {
      "cell_type": "code",
      "metadata": {
        "id": "GGhY7sioQKMq"
      },
      "source": [
        "mlp = MLPClassifier(hidden_layer_sizes=(16,16),activation='logistic', solver='sgd',learning_rate_init=0.01,max_iter=1800,random_state=7,tol=0.00001)"
      ],
      "execution_count": 6,
      "outputs": []
    },
    {
      "cell_type": "markdown",
      "metadata": {
        "id": "QbFpiyNgX1iW"
      },
      "source": [
        "hidden layer size can be a tuple as number of layer is more\n",
        "\n",
        "solver is the function used for weight optimization \n",
        "\n",
        "sgd means sophaticated gradient *descent*\n",
        "\n",
        "tol means tolerance the solver function works until the loss becomes atleast tol\n",
        "\n"
      ]
    },
    {
      "cell_type": "markdown",
      "metadata": {
        "id": "5haqHKLYXo1A"
      },
      "source": [
        "**Fitting the model**"
      ]
    },
    {
      "cell_type": "code",
      "metadata": {
        "id": "NFix42oyQPwt",
        "outputId": "db490ea3-28be-486b-a697-7b75b7a0bef0",
        "colab": {
          "base_uri": "https://localhost:8080/",
          "height": 156
        }
      },
      "source": [
        "mlp.fit(X_train, y_train)"
      ],
      "execution_count": 7,
      "outputs": [
        {
          "output_type": "execute_result",
          "data": {
            "text/plain": [
              "MLPClassifier(activation='logistic', alpha=0.0001, batch_size='auto',\n",
              "              beta_1=0.9, beta_2=0.999, early_stopping=False, epsilon=1e-08,\n",
              "              hidden_layer_sizes=(16, 16), learning_rate='constant',\n",
              "              learning_rate_init=0.01, max_fun=15000, max_iter=1800,\n",
              "              momentum=0.9, n_iter_no_change=10, nesterovs_momentum=True,\n",
              "              power_t=0.5, random_state=7, shuffle=True, solver='sgd',\n",
              "              tol=1e-05, validation_fraction=0.1, verbose=False,\n",
              "              warm_start=False)"
            ]
          },
          "metadata": {
            "tags": []
          },
          "execution_count": 7
        }
      ]
    },
    {
      "cell_type": "code",
      "metadata": {
        "id": "iXnUW8cNQQ9j",
        "outputId": "ddea9434-0c74-40fc-dcef-a0176a205037",
        "colab": {
          "base_uri": "https://localhost:8080/",
          "height": 35
        }
      },
      "source": [
        "print(mlp.score(X_test,y_test))"
      ],
      "execution_count": 10,
      "outputs": [
        {
          "output_type": "stream",
          "text": [
            "0.98144750254842\n"
          ],
          "name": "stdout"
        }
      ]
    }
  ]
}