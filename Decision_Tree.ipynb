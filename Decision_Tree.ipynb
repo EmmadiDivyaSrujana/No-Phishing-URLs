{
  "nbformat": 4,
  "nbformat_minor": 0,
  "metadata": {
    "colab": {
      "name": "Decision Tree",
      "provenance": [],
      "authorship_tag": "ABX9TyMFHqBHRh337uxXVrFrrVzB",
      "include_colab_link": true
    },
    "kernelspec": {
      "name": "python3",
      "display_name": "Python 3"
    }
  },
  "cells": [
    {
      "cell_type": "markdown",
      "metadata": {
        "id": "view-in-github",
        "colab_type": "text"
      },
      "source": [
        "<a href=\"https://colab.research.google.com/github/Shreya549/no-phishy/blob/master/Decision_Tree.ipynb\" target=\"_parent\"><img src=\"https://colab.research.google.com/assets/colab-badge.svg\" alt=\"Open In Colab\"/></a>"
      ]
    },
    {
      "cell_type": "markdown",
      "metadata": {
        "id": "1JF4haJSZ3lo"
      },
      "source": [
        "**Importing the Libraries**"
      ]
    },
    {
      "cell_type": "code",
      "metadata": {
        "id": "FLYnf5EiRHfq"
      },
      "source": [
        "from sklearn import tree\n",
        "from sklearn.metrics import accuracy_score"
      ],
      "execution_count": 1,
      "outputs": []
    },
    {
      "cell_type": "code",
      "metadata": {
        "id": "CdqHAOS1RQQX"
      },
      "source": [
        "import numpy as np"
      ],
      "execution_count": 2,
      "outputs": []
    },
    {
      "cell_type": "markdown",
      "metadata": {
        "id": "DA9TfdMsZ-Fz"
      },
      "source": [
        "**Reading the dataset**"
      ]
    },
    {
      "cell_type": "code",
      "metadata": {
        "id": "ztKE-LhhRWOD"
      },
      "source": [
        "training_data = np.genfromtxt('https://raw.githubusercontent.com/Shreya549/no-phishy/master/final2.csv', delimiter=',', dtype=np.int32)"
      ],
      "execution_count": 3,
      "outputs": []
    },
    {
      "cell_type": "markdown",
      "metadata": {
        "id": "SX1n_4pVaN0y"
      },
      "source": [
        "**Dividing the data into input and the output**"
      ]
    },
    {
      "cell_type": "code",
      "metadata": {
        "id": "XJZkCtqaRgla"
      },
      "source": [
        "inputs = training_data[:,:-1]\n",
        "outputs = training_data[:, -1]"
      ],
      "execution_count": 4,
      "outputs": []
    },
    {
      "cell_type": "markdown",
      "metadata": {
        "id": "UDaTmWXFazDF"
      },
      "source": [
        "**Dividing the data into training and testing inputs and outputs**"
      ]
    },
    {
      "cell_type": "code",
      "metadata": {
        "id": "7KIhlpUfRmd9"
      },
      "source": [
        "from sklearn.model_selection import train_test_split\n",
        "training_inputs, testing_inputs, training_outputs,testing_outputs=train_test_split(inputs, outputs, test_size = 0.2, random_state = 0)"
      ],
      "execution_count": 5,
      "outputs": []
    },
    {
      "cell_type": "code",
      "metadata": {
        "id": "ZRnF19_ARuPN"
      },
      "source": [
        "classifier = tree.DecisionTreeClassifier()"
      ],
      "execution_count": 6,
      "outputs": []
    },
    {
      "cell_type": "markdown",
      "metadata": {
        "id": "Muah7jySa9fE"
      },
      "source": [
        "**Fitting the classifier**"
      ]
    },
    {
      "cell_type": "code",
      "metadata": {
        "id": "N0InnHEhRyrO",
        "outputId": "372f951c-1aac-48b6-de13-8ecec41e5612",
        "colab": {
          "base_uri": "https://localhost:8080/",
          "height": 121
        }
      },
      "source": [
        "classifier.fit(training_inputs, training_outputs)"
      ],
      "execution_count": 7,
      "outputs": [
        {
          "output_type": "execute_result",
          "data": {
            "text/plain": [
              "DecisionTreeClassifier(ccp_alpha=0.0, class_weight=None, criterion='gini',\n",
              "                       max_depth=None, max_features=None, max_leaf_nodes=None,\n",
              "                       min_impurity_decrease=0.0, min_impurity_split=None,\n",
              "                       min_samples_leaf=1, min_samples_split=2,\n",
              "                       min_weight_fraction_leaf=0.0, presort='deprecated',\n",
              "                       random_state=None, splitter='best')"
            ]
          },
          "metadata": {
            "tags": []
          },
          "execution_count": 7
        }
      ]
    },
    {
      "cell_type": "markdown",
      "metadata": {
        "id": "14f1tnMUcKEh"
      },
      "source": [
        "**Predicting the accuracy using the Testing Data**"
      ]
    },
    {
      "cell_type": "code",
      "metadata": {
        "id": "hDbQW8HPR17i",
        "outputId": "6e7f516a-1c9f-46ff-ca0b-be25fd8a8449",
        "colab": {
          "base_uri": "https://localhost:8080/",
          "height": 35
        }
      },
      "source": [
        "predictions = classifier.predict(testing_inputs)\n",
        "accuracy = 100.0 * accuracy_score(testing_outputs, predictions)\n",
        "accuracy"
      ],
      "execution_count": null,
      "outputs": [
        {
          "output_type": "execute_result",
          "data": {
            "text/plain": [
              "97.6420222886654"
            ]
          },
          "metadata": {
            "tags": []
          },
          "execution_count": 8
        }
      ]
    },
    {
      "cell_type": "markdown",
      "metadata": {
        "id": "ZZJWxYt_cSwC"
      },
      "source": [
        "**Confusion Matrix**"
      ]
    },
    {
      "cell_type": "code",
      "metadata": {
        "id": "zYKdskOvSAUH",
        "outputId": "1717a646-63b1-454d-a84f-3230b9020df1",
        "colab": {
          "base_uri": "https://localhost:8080/",
          "height": 52
        }
      },
      "source": [
        "from sklearn.metrics import confusion_matrix\n",
        "cm = confusion_matrix(testing_outputs, predictions)\n",
        "cm"
      ],
      "execution_count": null,
      "outputs": [
        {
          "output_type": "execute_result",
          "data": {
            "text/plain": [
              "array([[6951,  197],\n",
              "       [ 150, 7418]])"
            ]
          },
          "metadata": {
            "tags": []
          },
          "execution_count": 9
        }
      ]
    },
    {
      "cell_type": "markdown",
      "metadata": {
        "id": "mDwsYjcDfwoK"
      },
      "source": [
        "**Plotting the accuracy of the 4 classifiers used**"
      ]
    },
    {
      "cell_type": "code",
      "metadata": {
        "id": "beMyhWbgcV6n",
        "outputId": "d2298ad1-68ac-4a7d-e9e4-c679331d345b",
        "colab": {
          "base_uri": "https://localhost:8080/",
          "height": 340
        }
      },
      "source": [
        "import matplotlib.pyplot as plt\n",
        "fig = plt.figure()\n",
        "ax = fig.add_axes([0,0,1,1])\n",
        "algo = ['Sequential Classifier', 'Logistic Regression', 'MLP Classifier', 'Decision Tree']\n",
        "accuracy = [98.40, 96.26, 98.14, 97.64]\n",
        "ax.bar(algo, accuracy)\n",
        "plt.ylim([95, 100])\n",
        "plt.show()"
      ],
      "execution_count": null,
      "outputs": [
        {
          "output_type": "display_data",
          "data": {
            "image/png": "[encoded data removed]",
            "text/plain": [
              "<Figure size 432x288 with 1 Axes>"
            ]
          },
          "metadata": {
            "tags": [],
            "needs_background": "light"
          }
        }
      ]
    }
  ]
}