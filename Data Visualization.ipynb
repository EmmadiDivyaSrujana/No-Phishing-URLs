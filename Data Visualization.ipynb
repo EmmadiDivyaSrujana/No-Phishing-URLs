{
  "nbformat": 4,
  "nbformat_minor": 0,
  "metadata": {
    "kernelspec": {
      "display_name": "Python 3",
      "language": "python",
      "name": "python3"
    },
    "language_info": {
      "codemirror_mode": {
        "name": "ipython",
        "version": 3
      },
      "file_extension": ".py",
      "mimetype": "text/x-python",
      "name": "python",
      "nbconvert_exporter": "python",
      "pygments_lexer": "ipython3",
      "version": "3.7.6"
    },
    "colab": {
      "name": "Data Visualization.ipynb",
      "provenance": [],
      "include_colab_link": true
    }
  },
  "cells": [
    {
      "cell_type": "markdown",
      "metadata": {
        "id": "view-in-github",
        "colab_type": "text"
      },
      "source": [
        "<a href=\"https://colab.research.google.com/github/Shreya549/no-phishy/blob/master/Data%20Visualization.ipynb\" target=\"_parent\"><img src=\"https://colab.research.google.com/assets/colab-badge.svg\" alt=\"Open In Colab\"/></a>"
      ]
    },
    {
      "cell_type": "code",
      "metadata": {
        "id": "44hvUtsfghhM"
      },
      "source": [
        "import numpy as np\n",
        "import pandas as pd"
      ],
      "execution_count": 1,
      "outputs": []
    },
    {
      "cell_type": "code",
      "metadata": {
        "id": "rTpHChz8ghhT"
      },
      "source": [
        "import matplotlib.pyplot as plt\n",
        "import seaborn as sns\n",
        "%matplotlib inline"
      ],
      "execution_count": 2,
      "outputs": []
    },
    {
      "cell_type": "code",
      "metadata": {
        "id": "wmZ7XUULghhZ"
      },
      "source": [
        "df = pd.read_csv(\"https://raw.githubusercontent.com/Shreya549/no-phishy/master/final2.csv\")"
      ],
      "execution_count": 3,
      "outputs": []
    },
    {
      "cell_type": "code",
      "metadata": {
        "id": "sqlkD5FEghhe",
        "outputId": "79d541a0-ab86-4738-8ce4-bbf997e28774",
        "colab": {
          "base_uri": "https://localhost:8080/",
          "height": 239
        }
      },
      "source": [
        "df.head()"
      ],
      "execution_count": 6,
      "outputs": [
        {
          "output_type": "execute_result",
          "data": {
            "text/html": [
              "<div>\n",
              "<style scoped>\n",
              "    .dataframe tbody tr th:only-of-type {\n",
              "        vertical-align: middle;\n",
              "    }\n",
              "\n",
              "    .dataframe tbody tr th {\n",
              "        vertical-align: top;\n",
              "    }\n",
              "\n",
              "    .dataframe thead th {\n",
              "        text-align: right;\n",
              "    }\n",
              "</style>\n",
              "<table border=\"1\" class=\"dataframe\">\n",
              "  <thead>\n",
              "    <tr style=\"text-align: right;\">\n",
              "      <th></th>\n",
              "      <th>raw_length</th>\n",
              "      <th>https</th>\n",
              "      <th>countSubdomain</th>\n",
              "      <th>brandName</th>\n",
              "      <th>countBrand</th>\n",
              "      <th>countRandom</th>\n",
              "      <th>smallestWord</th>\n",
              "      <th>largestWord</th>\n",
              "      <th>avgWord</th>\n",
              "      <th>keyword Count</th>\n",
              "      <th>sd of words</th>\n",
              "      <th>com</th>\n",
              "      <th>www</th>\n",
              "      <th>tld</th>\n",
              "      <th>pathLen</th>\n",
              "      <th>subdomainLen</th>\n",
              "      <th>domainLen</th>\n",
              "      <th>Alexa_top_1m</th>\n",
              "      <th>domain_gibb</th>\n",
              "      <th>dash</th>\n",
              "      <th>dot</th>\n",
              "      <th>slash</th>\n",
              "      <th>at</th>\n",
              "      <th>question</th>\n",
              "      <th>ampersand</th>\n",
              "      <th>equal</th>\n",
              "      <th>underscore</th>\n",
              "      <th>countDigitSub</th>\n",
              "      <th>countDigitDom</th>\n",
              "      <th>countDigitPath</th>\n",
              "      <th>PhishingResult</th>\n",
              "    </tr>\n",
              "  </thead>\n",
              "  <tbody>\n",
              "    <tr>\n",
              "      <th>0</th>\n",
              "      <td>10</td>\n",
              "      <td>0</td>\n",
              "      <td>1</td>\n",
              "      <td>0</td>\n",
              "      <td>0</td>\n",
              "      <td>2</td>\n",
              "      <td>2</td>\n",
              "      <td>11</td>\n",
              "      <td>4</td>\n",
              "      <td>2</td>\n",
              "      <td>2.63</td>\n",
              "      <td>1</td>\n",
              "      <td>1</td>\n",
              "      <td>1</td>\n",
              "      <td>19</td>\n",
              "      <td>3</td>\n",
              "      <td>14</td>\n",
              "      <td>1</td>\n",
              "      <td>1</td>\n",
              "      <td>4</td>\n",
              "      <td>0</td>\n",
              "      <td>1</td>\n",
              "      <td>0</td>\n",
              "      <td>0</td>\n",
              "      <td>0</td>\n",
              "      <td>0</td>\n",
              "      <td>0</td>\n",
              "      <td>0</td>\n",
              "      <td>0</td>\n",
              "      <td>0</td>\n",
              "      <td>0</td>\n",
              "    </tr>\n",
              "    <tr>\n",
              "      <th>1</th>\n",
              "      <td>8</td>\n",
              "      <td>1</td>\n",
              "      <td>1</td>\n",
              "      <td>0</td>\n",
              "      <td>0</td>\n",
              "      <td>3</td>\n",
              "      <td>3</td>\n",
              "      <td>9</td>\n",
              "      <td>4</td>\n",
              "      <td>1</td>\n",
              "      <td>2.17</td>\n",
              "      <td>1</td>\n",
              "      <td>1</td>\n",
              "      <td>1</td>\n",
              "      <td>17</td>\n",
              "      <td>3</td>\n",
              "      <td>12</td>\n",
              "      <td>1</td>\n",
              "      <td>1</td>\n",
              "      <td>2</td>\n",
              "      <td>1</td>\n",
              "      <td>0</td>\n",
              "      <td>0</td>\n",
              "      <td>0</td>\n",
              "      <td>0</td>\n",
              "      <td>0</td>\n",
              "      <td>0</td>\n",
              "      <td>0</td>\n",
              "      <td>0</td>\n",
              "      <td>0</td>\n",
              "      <td>0</td>\n",
              "    </tr>\n",
              "    <tr>\n",
              "      <th>2</th>\n",
              "      <td>11</td>\n",
              "      <td>0</td>\n",
              "      <td>1</td>\n",
              "      <td>0</td>\n",
              "      <td>0</td>\n",
              "      <td>3</td>\n",
              "      <td>1</td>\n",
              "      <td>9</td>\n",
              "      <td>4</td>\n",
              "      <td>3</td>\n",
              "      <td>2.15</td>\n",
              "      <td>1</td>\n",
              "      <td>1</td>\n",
              "      <td>1</td>\n",
              "      <td>17</td>\n",
              "      <td>3</td>\n",
              "      <td>12</td>\n",
              "      <td>1</td>\n",
              "      <td>1</td>\n",
              "      <td>0</td>\n",
              "      <td>1</td>\n",
              "      <td>2</td>\n",
              "      <td>0</td>\n",
              "      <td>0</td>\n",
              "      <td>0</td>\n",
              "      <td>0</td>\n",
              "      <td>3</td>\n",
              "      <td>7</td>\n",
              "      <td>2</td>\n",
              "      <td>0</td>\n",
              "      <td>0</td>\n",
              "    </tr>\n",
              "    <tr>\n",
              "      <th>3</th>\n",
              "      <td>8</td>\n",
              "      <td>1</td>\n",
              "      <td>1</td>\n",
              "      <td>0</td>\n",
              "      <td>0</td>\n",
              "      <td>3</td>\n",
              "      <td>2</td>\n",
              "      <td>8</td>\n",
              "      <td>4</td>\n",
              "      <td>0</td>\n",
              "      <td>2.14</td>\n",
              "      <td>1</td>\n",
              "      <td>0</td>\n",
              "      <td>1</td>\n",
              "      <td>13</td>\n",
              "      <td>3</td>\n",
              "      <td>8</td>\n",
              "      <td>0</td>\n",
              "      <td>1</td>\n",
              "      <td>0</td>\n",
              "      <td>1</td>\n",
              "      <td>2</td>\n",
              "      <td>0</td>\n",
              "      <td>0</td>\n",
              "      <td>0</td>\n",
              "      <td>0</td>\n",
              "      <td>0</td>\n",
              "      <td>7</td>\n",
              "      <td>2</td>\n",
              "      <td>0</td>\n",
              "      <td>0</td>\n",
              "    </tr>\n",
              "    <tr>\n",
              "      <th>4</th>\n",
              "      <td>8</td>\n",
              "      <td>0</td>\n",
              "      <td>1</td>\n",
              "      <td>0</td>\n",
              "      <td>0</td>\n",
              "      <td>3</td>\n",
              "      <td>2</td>\n",
              "      <td>10</td>\n",
              "      <td>4</td>\n",
              "      <td>2</td>\n",
              "      <td>2.60</td>\n",
              "      <td>1</td>\n",
              "      <td>1</td>\n",
              "      <td>1</td>\n",
              "      <td>14</td>\n",
              "      <td>3</td>\n",
              "      <td>9</td>\n",
              "      <td>1</td>\n",
              "      <td>1</td>\n",
              "      <td>0</td>\n",
              "      <td>0</td>\n",
              "      <td>1</td>\n",
              "      <td>0</td>\n",
              "      <td>0</td>\n",
              "      <td>0</td>\n",
              "      <td>0</td>\n",
              "      <td>2</td>\n",
              "      <td>0</td>\n",
              "      <td>2</td>\n",
              "      <td>0</td>\n",
              "      <td>0</td>\n",
              "    </tr>\n",
              "  </tbody>\n",
              "</table>\n",
              "</div>"
            ],
            "text/plain": [
              "   raw_length  https  ...  countDigitPath  PhishingResult\n",
              "0          10      0  ...               0               0\n",
              "1           8      1  ...               0               0\n",
              "2          11      0  ...               0               0\n",
              "3           8      1  ...               0               0\n",
              "4           8      0  ...               0               0\n",
              "\n",
              "[5 rows x 31 columns]"
            ]
          },
          "metadata": {
            "tags": []
          },
          "execution_count": 6
        }
      ]
    },
    {
      "cell_type": "markdown",
      "metadata": {
        "id": "9ck-ja0Gghhk"
      },
      "source": [
        "#### Let us find out if their is any null values in our prepared dataset"
      ]
    },
    {
      "cell_type": "code",
      "metadata": {
        "id": "eF9V_hUnghhm",
        "outputId": "79790a89-0358-468d-98c9-5d89fe5903ca",
        "colab": {
          "base_uri": "https://localhost:8080/",
          "height": 572
        }
      },
      "source": [
        "df.isna().sum()"
      ],
      "execution_count": 7,
      "outputs": [
        {
          "output_type": "execute_result",
          "data": {
            "text/plain": [
              "raw_length        0\n",
              "https             0\n",
              "countSubdomain    0\n",
              "brandName         0\n",
              "countBrand        0\n",
              "countRandom       0\n",
              "smallestWord      0\n",
              "largestWord       0\n",
              "avgWord           0\n",
              "keyword Count     0\n",
              "sd of words       0\n",
              "com               0\n",
              "www               0\n",
              "tld               0\n",
              "pathLen           0\n",
              "subdomainLen      0\n",
              "domainLen         0\n",
              "Alexa_top_1m      0\n",
              "domain_gibb       0\n",
              "dash              0\n",
              "dot               0\n",
              "slash             0\n",
              "at                0\n",
              "question          0\n",
              "ampersand         0\n",
              "equal             0\n",
              "underscore        0\n",
              "countDigitSub     0\n",
              "countDigitDom     0\n",
              "countDigitPath    0\n",
              "PhishingResult    0\n",
              "dtype: int64"
            ]
          },
          "metadata": {
            "tags": []
          },
          "execution_count": 7
        }
      ]
    },
    {
      "cell_type": "markdown",
      "metadata": {
        "id": "Uku9ezk2ghhr"
      },
      "source": [
        "#### Statistical Analysis on the dataset"
      ]
    },
    {
      "cell_type": "code",
      "metadata": {
        "id": "MzxtvsnWghhs",
        "outputId": "6b95fa73-3e56-4c0c-886e-40fe860ee85d",
        "colab": {
          "base_uri": "https://localhost:8080/",
          "height": 999
        }
      },
      "source": [
        "df.describe().transpose()"
      ],
      "execution_count": 8,
      "outputs": [
        {
          "output_type": "execute_result",
          "data": {
            "text/html": [
              "<div>\n",
              "<style scoped>\n",
              "    .dataframe tbody tr th:only-of-type {\n",
              "        vertical-align: middle;\n",
              "    }\n",
              "\n",
              "    .dataframe tbody tr th {\n",
              "        vertical-align: top;\n",
              "    }\n",
              "\n",
              "    .dataframe thead th {\n",
              "        text-align: right;\n",
              "    }\n",
              "</style>\n",
              "<table border=\"1\" class=\"dataframe\">\n",
              "  <thead>\n",
              "    <tr style=\"text-align: right;\">\n",
              "      <th></th>\n",
              "      <th>count</th>\n",
              "      <th>mean</th>\n",
              "      <th>std</th>\n",
              "      <th>min</th>\n",
              "      <th>25%</th>\n",
              "      <th>50%</th>\n",
              "      <th>75%</th>\n",
              "      <th>max</th>\n",
              "    </tr>\n",
              "  </thead>\n",
              "  <tbody>\n",
              "    <tr>\n",
              "      <th>raw_length</th>\n",
              "      <td>73575.0</td>\n",
              "      <td>10.076643</td>\n",
              "      <td>5.799137</td>\n",
              "      <td>2.00</td>\n",
              "      <td>7.00</td>\n",
              "      <td>9.00</td>\n",
              "      <td>11.00</td>\n",
              "      <td>93.00</td>\n",
              "    </tr>\n",
              "    <tr>\n",
              "      <th>https</th>\n",
              "      <td>73575.0</td>\n",
              "      <td>0.190989</td>\n",
              "      <td>0.393083</td>\n",
              "      <td>0.00</td>\n",
              "      <td>0.00</td>\n",
              "      <td>0.00</td>\n",
              "      <td>0.00</td>\n",
              "      <td>1.00</td>\n",
              "    </tr>\n",
              "    <tr>\n",
              "      <th>countSubdomain</th>\n",
              "      <td>73575.0</td>\n",
              "      <td>1.323235</td>\n",
              "      <td>0.676355</td>\n",
              "      <td>1.00</td>\n",
              "      <td>1.00</td>\n",
              "      <td>1.00</td>\n",
              "      <td>2.00</td>\n",
              "      <td>27.00</td>\n",
              "    </tr>\n",
              "    <tr>\n",
              "      <th>brandName</th>\n",
              "      <td>73575.0</td>\n",
              "      <td>0.133496</td>\n",
              "      <td>0.340113</td>\n",
              "      <td>0.00</td>\n",
              "      <td>0.00</td>\n",
              "      <td>0.00</td>\n",
              "      <td>0.00</td>\n",
              "      <td>1.00</td>\n",
              "    </tr>\n",
              "    <tr>\n",
              "      <th>countBrand</th>\n",
              "      <td>73575.0</td>\n",
              "      <td>0.147781</td>\n",
              "      <td>0.398610</td>\n",
              "      <td>0.00</td>\n",
              "      <td>0.00</td>\n",
              "      <td>0.00</td>\n",
              "      <td>0.00</td>\n",
              "      <td>4.00</td>\n",
              "    </tr>\n",
              "    <tr>\n",
              "      <th>countRandom</th>\n",
              "      <td>73575.0</td>\n",
              "      <td>2.954006</td>\n",
              "      <td>1.643699</td>\n",
              "      <td>0.00</td>\n",
              "      <td>2.00</td>\n",
              "      <td>3.00</td>\n",
              "      <td>4.00</td>\n",
              "      <td>21.00</td>\n",
              "    </tr>\n",
              "    <tr>\n",
              "      <th>smallestWord</th>\n",
              "      <td>73575.0</td>\n",
              "      <td>2.292409</td>\n",
              "      <td>0.699455</td>\n",
              "      <td>1.00</td>\n",
              "      <td>2.00</td>\n",
              "      <td>2.00</td>\n",
              "      <td>3.00</td>\n",
              "      <td>7.00</td>\n",
              "    </tr>\n",
              "    <tr>\n",
              "      <th>largestWord</th>\n",
              "      <td>73575.0</td>\n",
              "      <td>15.657832</td>\n",
              "      <td>28.777727</td>\n",
              "      <td>4.00</td>\n",
              "      <td>9.00</td>\n",
              "      <td>12.00</td>\n",
              "      <td>16.00</td>\n",
              "      <td>3915.00</td>\n",
              "    </tr>\n",
              "    <tr>\n",
              "      <th>avgWord</th>\n",
              "      <td>73575.0</td>\n",
              "      <td>5.553952</td>\n",
              "      <td>3.012410</td>\n",
              "      <td>2.00</td>\n",
              "      <td>4.00</td>\n",
              "      <td>5.00</td>\n",
              "      <td>6.00</td>\n",
              "      <td>331.00</td>\n",
              "    </tr>\n",
              "    <tr>\n",
              "      <th>keyword Count</th>\n",
              "      <td>73575.0</td>\n",
              "      <td>2.073041</td>\n",
              "      <td>1.148580</td>\n",
              "      <td>0.00</td>\n",
              "      <td>1.00</td>\n",
              "      <td>2.00</td>\n",
              "      <td>3.00</td>\n",
              "      <td>25.00</td>\n",
              "    </tr>\n",
              "    <tr>\n",
              "      <th>sd of words</th>\n",
              "      <td>73575.0</td>\n",
              "      <td>4.507078</td>\n",
              "      <td>8.483962</td>\n",
              "      <td>0.41</td>\n",
              "      <td>2.46</td>\n",
              "      <td>3.27</td>\n",
              "      <td>4.64</td>\n",
              "      <td>1128.57</td>\n",
              "    </tr>\n",
              "    <tr>\n",
              "      <th>com</th>\n",
              "      <td>73575.0</td>\n",
              "      <td>0.431451</td>\n",
              "      <td>0.495282</td>\n",
              "      <td>0.00</td>\n",
              "      <td>0.00</td>\n",
              "      <td>0.00</td>\n",
              "      <td>1.00</td>\n",
              "      <td>1.00</td>\n",
              "    </tr>\n",
              "    <tr>\n",
              "      <th>www</th>\n",
              "      <td>73575.0</td>\n",
              "      <td>0.602569</td>\n",
              "      <td>0.489370</td>\n",
              "      <td>0.00</td>\n",
              "      <td>0.00</td>\n",
              "      <td>1.00</td>\n",
              "      <td>1.00</td>\n",
              "      <td>1.00</td>\n",
              "    </tr>\n",
              "    <tr>\n",
              "      <th>tld</th>\n",
              "      <td>73575.0</td>\n",
              "      <td>0.743731</td>\n",
              "      <td>0.436575</td>\n",
              "      <td>0.00</td>\n",
              "      <td>0.00</td>\n",
              "      <td>1.00</td>\n",
              "      <td>1.00</td>\n",
              "      <td>1.00</td>\n",
              "    </tr>\n",
              "    <tr>\n",
              "      <th>pathLen</th>\n",
              "      <td>73575.0</td>\n",
              "      <td>18.479089</td>\n",
              "      <td>7.001710</td>\n",
              "      <td>5.00</td>\n",
              "      <td>14.00</td>\n",
              "      <td>17.00</td>\n",
              "      <td>21.00</td>\n",
              "      <td>237.00</td>\n",
              "    </tr>\n",
              "    <tr>\n",
              "      <th>subdomainLen</th>\n",
              "      <td>73575.0</td>\n",
              "      <td>2.843194</td>\n",
              "      <td>5.401659</td>\n",
              "      <td>0.00</td>\n",
              "      <td>0.00</td>\n",
              "      <td>3.00</td>\n",
              "      <td>3.00</td>\n",
              "      <td>222.00</td>\n",
              "    </tr>\n",
              "    <tr>\n",
              "      <th>domainLen</th>\n",
              "      <td>73575.0</td>\n",
              "      <td>14.032511</td>\n",
              "      <td>5.020417</td>\n",
              "      <td>4.00</td>\n",
              "      <td>10.00</td>\n",
              "      <td>13.00</td>\n",
              "      <td>17.00</td>\n",
              "      <td>54.00</td>\n",
              "    </tr>\n",
              "    <tr>\n",
              "      <th>Alexa_top_1m</th>\n",
              "      <td>73575.0</td>\n",
              "      <td>0.439755</td>\n",
              "      <td>0.496361</td>\n",
              "      <td>0.00</td>\n",
              "      <td>0.00</td>\n",
              "      <td>0.00</td>\n",
              "      <td>1.00</td>\n",
              "      <td>1.00</td>\n",
              "    </tr>\n",
              "    <tr>\n",
              "      <th>domain_gibb</th>\n",
              "      <td>73575.0</td>\n",
              "      <td>0.511845</td>\n",
              "      <td>0.499863</td>\n",
              "      <td>0.00</td>\n",
              "      <td>0.00</td>\n",
              "      <td>1.00</td>\n",
              "      <td>1.00</td>\n",
              "      <td>1.00</td>\n",
              "    </tr>\n",
              "    <tr>\n",
              "      <th>dash</th>\n",
              "      <td>73575.0</td>\n",
              "      <td>0.379531</td>\n",
              "      <td>0.810420</td>\n",
              "      <td>0.00</td>\n",
              "      <td>0.00</td>\n",
              "      <td>0.00</td>\n",
              "      <td>1.00</td>\n",
              "      <td>24.00</td>\n",
              "    </tr>\n",
              "    <tr>\n",
              "      <th>dot</th>\n",
              "      <td>73575.0</td>\n",
              "      <td>0.925070</td>\n",
              "      <td>1.779878</td>\n",
              "      <td>0.00</td>\n",
              "      <td>0.00</td>\n",
              "      <td>1.00</td>\n",
              "      <td>1.00</td>\n",
              "      <td>26.00</td>\n",
              "    </tr>\n",
              "    <tr>\n",
              "      <th>slash</th>\n",
              "      <td>73575.0</td>\n",
              "      <td>1.911777</td>\n",
              "      <td>1.678377</td>\n",
              "      <td>0.00</td>\n",
              "      <td>1.00</td>\n",
              "      <td>1.00</td>\n",
              "      <td>3.00</td>\n",
              "      <td>31.00</td>\n",
              "    </tr>\n",
              "    <tr>\n",
              "      <th>at</th>\n",
              "      <td>73575.0</td>\n",
              "      <td>0.056582</td>\n",
              "      <td>0.232743</td>\n",
              "      <td>0.00</td>\n",
              "      <td>0.00</td>\n",
              "      <td>0.00</td>\n",
              "      <td>0.00</td>\n",
              "      <td>3.00</td>\n",
              "    </tr>\n",
              "    <tr>\n",
              "      <th>question</th>\n",
              "      <td>73575.0</td>\n",
              "      <td>0.239769</td>\n",
              "      <td>0.536098</td>\n",
              "      <td>0.00</td>\n",
              "      <td>0.00</td>\n",
              "      <td>0.00</td>\n",
              "      <td>0.00</td>\n",
              "      <td>57.00</td>\n",
              "    </tr>\n",
              "    <tr>\n",
              "      <th>ampersand</th>\n",
              "      <td>73575.0</td>\n",
              "      <td>0.304071</td>\n",
              "      <td>1.391402</td>\n",
              "      <td>0.00</td>\n",
              "      <td>0.00</td>\n",
              "      <td>0.00</td>\n",
              "      <td>0.00</td>\n",
              "      <td>15.00</td>\n",
              "    </tr>\n",
              "    <tr>\n",
              "      <th>equal</th>\n",
              "      <td>73575.0</td>\n",
              "      <td>0.404512</td>\n",
              "      <td>1.234273</td>\n",
              "      <td>0.00</td>\n",
              "      <td>0.00</td>\n",
              "      <td>0.00</td>\n",
              "      <td>0.00</td>\n",
              "      <td>13.00</td>\n",
              "    </tr>\n",
              "    <tr>\n",
              "      <th>underscore</th>\n",
              "      <td>73575.0</td>\n",
              "      <td>0.198084</td>\n",
              "      <td>0.815862</td>\n",
              "      <td>0.00</td>\n",
              "      <td>0.00</td>\n",
              "      <td>0.00</td>\n",
              "      <td>0.00</td>\n",
              "      <td>22.00</td>\n",
              "    </tr>\n",
              "    <tr>\n",
              "      <th>countDigitSub</th>\n",
              "      <td>73575.0</td>\n",
              "      <td>0.098947</td>\n",
              "      <td>1.350629</td>\n",
              "      <td>0.00</td>\n",
              "      <td>0.00</td>\n",
              "      <td>0.00</td>\n",
              "      <td>0.00</td>\n",
              "      <td>85.00</td>\n",
              "    </tr>\n",
              "    <tr>\n",
              "      <th>countDigitDom</th>\n",
              "      <td>73575.0</td>\n",
              "      <td>0.089704</td>\n",
              "      <td>0.684655</td>\n",
              "      <td>0.00</td>\n",
              "      <td>0.00</td>\n",
              "      <td>0.00</td>\n",
              "      <td>0.00</td>\n",
              "      <td>12.00</td>\n",
              "    </tr>\n",
              "    <tr>\n",
              "      <th>countDigitPath</th>\n",
              "      <td>73575.0</td>\n",
              "      <td>4.033313</td>\n",
              "      <td>13.663674</td>\n",
              "      <td>0.00</td>\n",
              "      <td>0.00</td>\n",
              "      <td>0.00</td>\n",
              "      <td>0.00</td>\n",
              "      <td>558.00</td>\n",
              "    </tr>\n",
              "    <tr>\n",
              "      <th>PhishingResult</th>\n",
              "      <td>73575.0</td>\n",
              "      <td>0.505267</td>\n",
              "      <td>0.499976</td>\n",
              "      <td>0.00</td>\n",
              "      <td>0.00</td>\n",
              "      <td>1.00</td>\n",
              "      <td>1.00</td>\n",
              "      <td>1.00</td>\n",
              "    </tr>\n",
              "  </tbody>\n",
              "</table>\n",
              "</div>"
            ],
            "text/plain": [
              "                  count       mean        std  ...    50%    75%      max\n",
              "raw_length      73575.0  10.076643   5.799137  ...   9.00  11.00    93.00\n",
              "https           73575.0   0.190989   0.393083  ...   0.00   0.00     1.00\n",
              "countSubdomain  73575.0   1.323235   0.676355  ...   1.00   2.00    27.00\n",
              "brandName       73575.0   0.133496   0.340113  ...   0.00   0.00     1.00\n",
              "countBrand      73575.0   0.147781   0.398610  ...   0.00   0.00     4.00\n",
              "countRandom     73575.0   2.954006   1.643699  ...   3.00   4.00    21.00\n",
              "smallestWord    73575.0   2.292409   0.699455  ...   2.00   3.00     7.00\n",
              "largestWord     73575.0  15.657832  28.777727  ...  12.00  16.00  3915.00\n",
              "avgWord         73575.0   5.553952   3.012410  ...   5.00   6.00   331.00\n",
              "keyword Count   73575.0   2.073041   1.148580  ...   2.00   3.00    25.00\n",
              "sd of words     73575.0   4.507078   8.483962  ...   3.27   4.64  1128.57\n",
              "com             73575.0   0.431451   0.495282  ...   0.00   1.00     1.00\n",
              "www             73575.0   0.602569   0.489370  ...   1.00   1.00     1.00\n",
              "tld             73575.0   0.743731   0.436575  ...   1.00   1.00     1.00\n",
              "pathLen         73575.0  18.479089   7.001710  ...  17.00  21.00   237.00\n",
              "subdomainLen    73575.0   2.843194   5.401659  ...   3.00   3.00   222.00\n",
              "domainLen       73575.0  14.032511   5.020417  ...  13.00  17.00    54.00\n",
              "Alexa_top_1m    73575.0   0.439755   0.496361  ...   0.00   1.00     1.00\n",
              "domain_gibb     73575.0   0.511845   0.499863  ...   1.00   1.00     1.00\n",
              "dash            73575.0   0.379531   0.810420  ...   0.00   1.00    24.00\n",
              "dot             73575.0   0.925070   1.779878  ...   1.00   1.00    26.00\n",
              "slash           73575.0   1.911777   1.678377  ...   1.00   3.00    31.00\n",
              "at              73575.0   0.056582   0.232743  ...   0.00   0.00     3.00\n",
              "question        73575.0   0.239769   0.536098  ...   0.00   0.00    57.00\n",
              "ampersand       73575.0   0.304071   1.391402  ...   0.00   0.00    15.00\n",
              "equal           73575.0   0.404512   1.234273  ...   0.00   0.00    13.00\n",
              "underscore      73575.0   0.198084   0.815862  ...   0.00   0.00    22.00\n",
              "countDigitSub   73575.0   0.098947   1.350629  ...   0.00   0.00    85.00\n",
              "countDigitDom   73575.0   0.089704   0.684655  ...   0.00   0.00    12.00\n",
              "countDigitPath  73575.0   4.033313  13.663674  ...   0.00   0.00   558.00\n",
              "PhishingResult  73575.0   0.505267   0.499976  ...   1.00   1.00     1.00\n",
              "\n",
              "[31 rows x 8 columns]"
            ]
          },
          "metadata": {
            "tags": []
          },
          "execution_count": 8
        }
      ]
    },
    {
      "cell_type": "code",
      "metadata": {
        "id": "SE5McT2Sghhy",
        "outputId": "34ab0acd-83c7-474b-8830-278545b33d3a",
        "colab": {
          "base_uri": "https://localhost:8080/",
          "height": 352
        }
      },
      "source": [
        "sns.distplot(df['raw_length'], kde = False)"
      ],
      "execution_count": 9,
      "outputs": [
        {
          "output_type": "stream",
          "text": [
            "/usr/local/lib/python3.6/dist-packages/seaborn/distributions.py:2551: FutureWarning: `distplot` is a deprecated function and will be removed in a future version. Please adapt your code to use either `displot` (a figure-level function with similar flexibility) or `histplot` (an axes-level function for histograms).\n",
            "  warnings.warn(msg, FutureWarning)\n"
          ],
          "name": "stderr"
        },
        {
          "output_type": "execute_result",
          "data": {
            "text/plain": [
              "<matplotlib.axes._subplots.AxesSubplot at 0x7f4da94dc400>"
            ]
          },
          "metadata": {
            "tags": []
          },
          "execution_count": 9
        },
        {
          "output_type": "display_data",
          "data": {
            "image/png": "[encoded data removed]",
            "text/plain": [
              "<Figure size 432x288 with 1 Axes>"
            ]
          },
          "metadata": {
            "tags": [],
            "needs_background": "light"
          }
        }
      ]
    },
    {
      "cell_type": "markdown",
      "metadata": {
        "id": "houuxt_vghiK"
      },
      "source": [
        "### Let us see the distribution of Phishing V/S Non-Phishing URLS"
      ]
    },
    {
      "cell_type": "code",
      "metadata": {
        "id": "f8T9PaYdghiL",
        "outputId": "23402649-eb88-4b41-fe0f-862040e18360",
        "colab": {
          "base_uri": "https://localhost:8080/",
          "height": 69
        }
      },
      "source": [
        "df.PhishingResult.value_counts()"
      ],
      "execution_count": 10,
      "outputs": [
        {
          "output_type": "execute_result",
          "data": {
            "text/plain": [
              "1    37175\n",
              "0    36400\n",
              "Name: PhishingResult, dtype: int64"
            ]
          },
          "metadata": {
            "tags": []
          },
          "execution_count": 10
        }
      ]
    },
    {
      "cell_type": "code",
      "metadata": {
        "id": "tDW_NI9SghiQ",
        "outputId": "7873ea07-9182-4cc4-b512-aa9d3a67a5a3",
        "colab": {
          "base_uri": "https://localhost:8080/",
          "height": 69
        }
      },
      "source": [
        "(df.PhishingResult.value_counts()/len(df))*100"
      ],
      "execution_count": 11,
      "outputs": [
        {
          "output_type": "execute_result",
          "data": {
            "text/plain": [
              "1    50.526673\n",
              "0    49.473327\n",
              "Name: PhishingResult, dtype: float64"
            ]
          },
          "metadata": {
            "tags": []
          },
          "execution_count": 11
        }
      ]
    },
    {
      "cell_type": "code",
      "metadata": {
        "id": "9UrWOwtsghiV",
        "outputId": "b0e72313-6ea0-42f9-99ba-7e82ef26ec94",
        "colab": {
          "base_uri": "https://localhost:8080/",
          "height": 266
        }
      },
      "source": [
        "isPhishing = df['PhishingResult'].value_counts()\n",
        "labels = [1, 0]\n",
        "plt.pie(isPhishing,labels=labels,autopct=\"%1.1f%%\",shadow=True,explode=(0.04,0.04),startangle=90)\n",
        "plt.title('PHISHING URL DISTRIBUTION',fontsize=15)\n",
        "plt.show()"
      ],
      "execution_count": 14,
      "outputs": [
        {
          "output_type": "display_data",
          "data": {
            "image/png": "[encoded data removed]",
            "text/plain": [
              "<Figure size 432x288 with 1 Axes>"
            ]
          },
          "metadata": {
            "tags": []
          }
        }
      ]
    },
    {
      "cell_type": "code",
      "metadata": {
        "id": "n5GfggJ9ghia",
        "outputId": "64450bb0-3028-403e-bd7b-d6d4accc9638",
        "colab": {
          "base_uri": "https://localhost:8080/",
          "height": 297
        }
      },
      "source": [
        "sns.countplot(x='PhishingResult', data=df, palette = 'magma')"
      ],
      "execution_count": null,
      "outputs": [
        {
          "output_type": "execute_result",
          "data": {
            "text/plain": [
              "<matplotlib.axes._subplots.AxesSubplot at 0x7fa897c293c8>"
            ]
          },
          "metadata": {
            "tags": []
          },
          "execution_count": 18
        },
        {
          "output_type": "display_data",
          "data": {
            "image/png": "[encoded data removed]",
            "text/plain": [
              "<Figure size 432x288 with 1 Axes>"
            ]
          },
          "metadata": {
            "tags": [],
            "needs_background": "light"
          }
        }
      ]
    },
    {
      "cell_type": "markdown",
      "metadata": {
        "id": "R93flPtvghie"
      },
      "source": [
        "### Heatmap for our  data to find the correlation between length of word and Phishing URL"
      ]
    },
    {
      "cell_type": "code",
      "metadata": {
        "id": "27s0zro1ghif",
        "outputId": "be28674c-82c0-431c-ea74-84ccf637b26b",
        "colab": {
          "base_uri": "https://localhost:8080/",
          "height": 202
        }
      },
      "source": [
        "word_count = df.filter(['largestWord', 'smallestWord', 'avgWord', 'PhishingResult', 'sd of words'], axis = 1)\n",
        "word_count.corr()"
      ],
      "execution_count": null,
      "outputs": [
        {
          "output_type": "execute_result",
          "data": {
            "text/html": [
              "<div>\n",
              "<style scoped>\n",
              "    .dataframe tbody tr th:only-of-type {\n",
              "        vertical-align: middle;\n",
              "    }\n",
              "\n",
              "    .dataframe tbody tr th {\n",
              "        vertical-align: top;\n",
              "    }\n",
              "\n",
              "    .dataframe thead th {\n",
              "        text-align: right;\n",
              "    }\n",
              "</style>\n",
              "<table border=\"1\" class=\"dataframe\">\n",
              "  <thead>\n",
              "    <tr style=\"text-align: right;\">\n",
              "      <th></th>\n",
              "      <th>largestWord</th>\n",
              "      <th>smallestWord</th>\n",
              "      <th>avgWord</th>\n",
              "      <th>PhishingResult</th>\n",
              "      <th>sd of words</th>\n",
              "    </tr>\n",
              "  </thead>\n",
              "  <tbody>\n",
              "    <tr>\n",
              "      <th>largestWord</th>\n",
              "      <td>1.000000</td>\n",
              "      <td>-0.026779</td>\n",
              "      <td>0.909320</td>\n",
              "      <td>0.126680</td>\n",
              "      <td>0.993345</td>\n",
              "    </tr>\n",
              "    <tr>\n",
              "      <th>smallestWord</th>\n",
              "      <td>-0.026779</td>\n",
              "      <td>1.000000</td>\n",
              "      <td>0.110185</td>\n",
              "      <td>-0.110468</td>\n",
              "      <td>-0.008430</td>\n",
              "    </tr>\n",
              "    <tr>\n",
              "      <th>avgWord</th>\n",
              "      <td>0.909320</td>\n",
              "      <td>0.110185</td>\n",
              "      <td>1.000000</td>\n",
              "      <td>0.133215</td>\n",
              "      <td>0.932838</td>\n",
              "    </tr>\n",
              "    <tr>\n",
              "      <th>PhishingResult</th>\n",
              "      <td>0.126680</td>\n",
              "      <td>-0.110468</td>\n",
              "      <td>0.133215</td>\n",
              "      <td>1.000000</td>\n",
              "      <td>0.130559</td>\n",
              "    </tr>\n",
              "    <tr>\n",
              "      <th>sd of words</th>\n",
              "      <td>0.993345</td>\n",
              "      <td>-0.008430</td>\n",
              "      <td>0.932838</td>\n",
              "      <td>0.130559</td>\n",
              "      <td>1.000000</td>\n",
              "    </tr>\n",
              "  </tbody>\n",
              "</table>\n",
              "</div>"
            ],
            "text/plain": [
              "                largestWord  smallestWord  ...  PhishingResult  sd of words\n",
              "largestWord        1.000000     -0.026779  ...        0.126680     0.993345\n",
              "smallestWord      -0.026779      1.000000  ...       -0.110468    -0.008430\n",
              "avgWord            0.909320      0.110185  ...        0.133215     0.932838\n",
              "PhishingResult     0.126680     -0.110468  ...        1.000000     0.130559\n",
              "sd of words        0.993345     -0.008430  ...        0.130559     1.000000\n",
              "\n",
              "[5 rows x 5 columns]"
            ]
          },
          "metadata": {
            "tags": []
          },
          "execution_count": 19
        }
      ]
    },
    {
      "cell_type": "code",
      "metadata": {
        "id": "PJ5Bsfumghij",
        "outputId": "d1d4df78-56af-4a78-a678-c59d280682a0",
        "colab": {
          "base_uri": "https://localhost:8080/",
          "height": 351
        }
      },
      "source": [
        "sns.heatmap(word_count.corr(), cmap = 'PuRd', annot = True)"
      ],
      "execution_count": null,
      "outputs": [
        {
          "output_type": "execute_result",
          "data": {
            "text/plain": [
              "<matplotlib.axes._subplots.AxesSubplot at 0x7fa897c096d8>"
            ]
          },
          "metadata": {
            "tags": []
          },
          "execution_count": 20
        },
        {
          "output_type": "display_data",
          "data": {
            "image/png": "[encoded data removed]",
            "text/plain": [
              "<Figure size 432x288 with 2 Axes>"
            ]
          },
          "metadata": {
            "tags": [],
            "needs_background": "light"
          }
        }
      ]
    },
    {
      "cell_type": "markdown",
      "metadata": {
        "id": "KMpSEJk9ghio"
      },
      "source": [
        "### Let us analyse the distribution of top level domains in phishing urls"
      ]
    },
    {
      "cell_type": "code",
      "metadata": {
        "id": "7_vAOCo3ghio",
        "outputId": "8dfdfe28-ec46-49a5-ab49-350c69c59bdb",
        "colab": {
          "base_uri": "https://localhost:8080/",
          "height": 297
        }
      },
      "source": [
        "sns.countplot(x=\"PhishingResult\", data=df,hue = 'tld', palette='viridis')"
      ],
      "execution_count": null,
      "outputs": [
        {
          "output_type": "execute_result",
          "data": {
            "text/plain": [
              "<matplotlib.axes._subplots.AxesSubplot at 0x7fa897d07dd8>"
            ]
          },
          "metadata": {
            "tags": []
          },
          "execution_count": 21
        },
        {
          "output_type": "display_data",
          "data": {
            "image/png": "[encoded data removed]",
            "text/plain": [
              "<Figure size 432x288 with 1 Axes>"
            ]
          },
          "metadata": {
            "tags": [],
            "needs_background": "light"
          }
        }
      ]
    },
    {
      "cell_type": "markdown",
      "metadata": {
        "id": "lejp37Vrghit"
      },
      "source": [
        "#### We can see that a majority of the Phishing sites have a top level domain in their url"
      ]
    },
    {
      "cell_type": "markdown",
      "metadata": {
        "id": "oswHMNgyghiu"
      },
      "source": [
        "### Let us see the relation between Secured Sites (HTTPS Enabled) and Phishing URLs"
      ]
    },
    {
      "cell_type": "code",
      "metadata": {
        "id": "1dQ8zq5kghiv",
        "outputId": "057ced64-2e68-470e-dadb-86f3b93a752c",
        "colab": {
          "base_uri": "https://localhost:8080/",
          "height": 297
        }
      },
      "source": [
        "sns.countplot(x=\"PhishingResult\", data=df,hue = 'https', palette='Reds')"
      ],
      "execution_count": null,
      "outputs": [
        {
          "output_type": "execute_result",
          "data": {
            "text/plain": [
              "<matplotlib.axes._subplots.AxesSubplot at 0x7fa897b54cc0>"
            ]
          },
          "metadata": {
            "tags": []
          },
          "execution_count": 23
        },
        {
          "output_type": "display_data",
          "data": {
            "image/png": "[encoded data removed]",
            "text/plain": [
              "<Figure size 432x288 with 1 Axes>"
            ]
          },
          "metadata": {
            "tags": [],
            "needs_background": "light"
          }
        }
      ]
    },
    {
      "cell_type": "markdown",
      "metadata": {
        "id": "B7EiZ5hjghiz"
      },
      "source": [
        "#### Therefore we can see that most Phishing urls don't have HTTPs"
      ]
    },
    {
      "cell_type": "markdown",
      "metadata": {
        "id": "b4Pjzw83ghi0"
      },
      "source": [
        "### Let us see the relation between 'www' and Phishing URLs\n"
      ]
    },
    {
      "cell_type": "code",
      "metadata": {
        "id": "M1XIq8X0ghi3",
        "outputId": "b7d075c3-7d7e-46ab-a399-9d2edd1448e7",
        "colab": {
          "base_uri": "https://localhost:8080/",
          "height": 297
        }
      },
      "source": [
        "sns.countplot(x=\"PhishingResult\", data=df,hue = 'www', palette='YlGnBu')"
      ],
      "execution_count": null,
      "outputs": [
        {
          "output_type": "execute_result",
          "data": {
            "text/plain": [
              "<matplotlib.axes._subplots.AxesSubplot at 0x7fa897ab8588>"
            ]
          },
          "metadata": {
            "tags": []
          },
          "execution_count": 24
        },
        {
          "output_type": "display_data",
          "data": {
            "image/png": "[encoded data removed]",
            "text/plain": [
              "<Figure size 432x288 with 1 Axes>"
            ]
          },
          "metadata": {
            "tags": [],
            "needs_background": "light"
          }
        }
      ]
    },
    {
      "cell_type": "markdown",
      "metadata": {
        "id": "g13Ns5cmghi7"
      },
      "source": [
        "#### Therefore we can see that most Phishing urls don't have 'www'"
      ]
    },
    {
      "cell_type": "markdown",
      "metadata": {
        "id": "GfTNR95Aghi8"
      },
      "source": [
        "### Let us see the relation between '.com' and Phishing URLs\n"
      ]
    },
    {
      "cell_type": "code",
      "metadata": {
        "id": "8h2fOmM7ghi9",
        "outputId": "9d2cc64b-b3b8-476f-a940-ea634c15df32",
        "colab": {
          "base_uri": "https://localhost:8080/",
          "height": 297
        }
      },
      "source": [
        "sns.countplot(x=\"PhishingResult\", data=df,hue = 'com', palette='YlOrRd')"
      ],
      "execution_count": 18,
      "outputs": [
        {
          "output_type": "execute_result",
          "data": {
            "text/plain": [
              "<matplotlib.axes._subplots.AxesSubplot at 0x7f4d9d35e8d0>"
            ]
          },
          "metadata": {
            "tags": []
          },
          "execution_count": 18
        },
        {
          "output_type": "display_data",
          "data": {
            "image/png": "[encoded data removed]",
            "text/plain": [
              "<Figure size 432x288 with 1 Axes>"
            ]
          },
          "metadata": {
            "tags": [],
            "needs_background": "light"
          }
        }
      ]
    },
    {
      "cell_type": "markdown",
      "metadata": {
        "id": "Epfu6qoAghjB"
      },
      "source": [
        "#### Therefore we can see that a majority of Phishing urls have '.com'"
      ]
    },
    {
      "cell_type": "markdown",
      "metadata": {
        "id": "poq5jVFhghjB"
      },
      "source": [
        "### Now, let us analyse the relation between brand name and phishing urls"
      ]
    },
    {
      "cell_type": "code",
      "metadata": {
        "id": "2So3WhDRghjC",
        "outputId": "68601be7-5279-4e3f-a990-9662cb839afb",
        "colab": {
          "base_uri": "https://localhost:8080/",
          "height": 301
        }
      },
      "source": [
        "sns.countplot(x=\"PhishingResult\", data=df,hue = 'brandName', palette='plasma')"
      ],
      "execution_count": 17,
      "outputs": [
        {
          "output_type": "execute_result",
          "data": {
            "text/plain": [
              "<matplotlib.axes._subplots.AxesSubplot at 0x7f4d9fdcf278>"
            ]
          },
          "metadata": {
            "tags": []
          },
          "execution_count": 17
        },
        {
          "output_type": "display_data",
          "data": {
            "image/png": "[encoded data removed]",
            "text/plain": [
              "<Figure size 432x288 with 1 Axes>"
            ]
          },
          "metadata": {
            "tags": [],
            "needs_background": "light"
          }
        }
      ]
    },
    {
      "cell_type": "markdown",
      "metadata": {
        "id": "maij7xa2ghjG"
      },
      "source": [
        "#### It is observed that a majority of Phishing URLs do not have a brandname in it."
      ]
    },
    {
      "cell_type": "markdown",
      "metadata": {
        "id": "he1w6F-dghjN"
      },
      "source": [
        "### Now, let us find the correlation between special characters and Phishing URLs and draw a heatmap"
      ]
    },
    {
      "cell_type": "code",
      "metadata": {
        "id": "ddi2GFO9ghjN",
        "outputId": "c76583a1-6596-405b-ae6c-5c4e36eeebc0",
        "colab": {
          "base_uri": "https://localhost:8080/",
          "height": 294
        }
      },
      "source": [
        "special_char = df.filter(['underscore', 'dash', 'equal', 'slash', 'at', 'ampersand', 'question', 'PhishingResult'], axis = 1)\n",
        "special_char.corr()"
      ],
      "execution_count": 19,
      "outputs": [
        {
          "output_type": "execute_result",
          "data": {
            "text/html": [
              "<div>\n",
              "<style scoped>\n",
              "    .dataframe tbody tr th:only-of-type {\n",
              "        vertical-align: middle;\n",
              "    }\n",
              "\n",
              "    .dataframe tbody tr th {\n",
              "        vertical-align: top;\n",
              "    }\n",
              "\n",
              "    .dataframe thead th {\n",
              "        text-align: right;\n",
              "    }\n",
              "</style>\n",
              "<table border=\"1\" class=\"dataframe\">\n",
              "  <thead>\n",
              "    <tr style=\"text-align: right;\">\n",
              "      <th></th>\n",
              "      <th>underscore</th>\n",
              "      <th>dash</th>\n",
              "      <th>equal</th>\n",
              "      <th>slash</th>\n",
              "      <th>at</th>\n",
              "      <th>ampersand</th>\n",
              "      <th>question</th>\n",
              "      <th>PhishingResult</th>\n",
              "    </tr>\n",
              "  </thead>\n",
              "  <tbody>\n",
              "    <tr>\n",
              "      <th>underscore</th>\n",
              "      <td>1.000000</td>\n",
              "      <td>0.215570</td>\n",
              "      <td>0.246470</td>\n",
              "      <td>0.188530</td>\n",
              "      <td>0.025867</td>\n",
              "      <td>0.151525</td>\n",
              "      <td>0.195265</td>\n",
              "      <td>-0.092989</td>\n",
              "    </tr>\n",
              "    <tr>\n",
              "      <th>dash</th>\n",
              "      <td>0.215570</td>\n",
              "      <td>1.000000</td>\n",
              "      <td>0.137271</td>\n",
              "      <td>0.176953</td>\n",
              "      <td>0.066007</td>\n",
              "      <td>0.087739</td>\n",
              "      <td>0.107451</td>\n",
              "      <td>-0.101406</td>\n",
              "    </tr>\n",
              "    <tr>\n",
              "      <th>equal</th>\n",
              "      <td>0.246470</td>\n",
              "      <td>0.137271</td>\n",
              "      <td>1.000000</td>\n",
              "      <td>0.171111</td>\n",
              "      <td>0.268790</td>\n",
              "      <td>0.895812</td>\n",
              "      <td>0.650059</td>\n",
              "      <td>-0.155469</td>\n",
              "    </tr>\n",
              "    <tr>\n",
              "      <th>slash</th>\n",
              "      <td>0.188530</td>\n",
              "      <td>0.176953</td>\n",
              "      <td>0.171111</td>\n",
              "      <td>1.000000</td>\n",
              "      <td>0.023600</td>\n",
              "      <td>0.120120</td>\n",
              "      <td>0.096727</td>\n",
              "      <td>-0.556958</td>\n",
              "    </tr>\n",
              "    <tr>\n",
              "      <th>at</th>\n",
              "      <td>0.025867</td>\n",
              "      <td>0.066007</td>\n",
              "      <td>0.268790</td>\n",
              "      <td>0.023600</td>\n",
              "      <td>1.000000</td>\n",
              "      <td>0.183209</td>\n",
              "      <td>0.363380</td>\n",
              "      <td>-0.001101</td>\n",
              "    </tr>\n",
              "    <tr>\n",
              "      <th>ampersand</th>\n",
              "      <td>0.151525</td>\n",
              "      <td>0.087739</td>\n",
              "      <td>0.895812</td>\n",
              "      <td>0.120120</td>\n",
              "      <td>0.183209</td>\n",
              "      <td>1.000000</td>\n",
              "      <td>0.524625</td>\n",
              "      <td>-0.136096</td>\n",
              "    </tr>\n",
              "    <tr>\n",
              "      <th>question</th>\n",
              "      <td>0.195265</td>\n",
              "      <td>0.107451</td>\n",
              "      <td>0.650059</td>\n",
              "      <td>0.096727</td>\n",
              "      <td>0.363380</td>\n",
              "      <td>0.524625</td>\n",
              "      <td>1.000000</td>\n",
              "      <td>-0.044847</td>\n",
              "    </tr>\n",
              "    <tr>\n",
              "      <th>PhishingResult</th>\n",
              "      <td>-0.092989</td>\n",
              "      <td>-0.101406</td>\n",
              "      <td>-0.155469</td>\n",
              "      <td>-0.556958</td>\n",
              "      <td>-0.001101</td>\n",
              "      <td>-0.136096</td>\n",
              "      <td>-0.044847</td>\n",
              "      <td>1.000000</td>\n",
              "    </tr>\n",
              "  </tbody>\n",
              "</table>\n",
              "</div>"
            ],
            "text/plain": [
              "                underscore      dash  ...  question  PhishingResult\n",
              "underscore        1.000000  0.215570  ...  0.195265       -0.092989\n",
              "dash              0.215570  1.000000  ...  0.107451       -0.101406\n",
              "equal             0.246470  0.137271  ...  0.650059       -0.155469\n",
              "slash             0.188530  0.176953  ...  0.096727       -0.556958\n",
              "at                0.025867  0.066007  ...  0.363380       -0.001101\n",
              "ampersand         0.151525  0.087739  ...  0.524625       -0.136096\n",
              "question          0.195265  0.107451  ...  1.000000       -0.044847\n",
              "PhishingResult   -0.092989 -0.101406  ... -0.044847        1.000000\n",
              "\n",
              "[8 rows x 8 columns]"
            ]
          },
          "metadata": {
            "tags": []
          },
          "execution_count": 19
        }
      ]
    },
    {
      "cell_type": "code",
      "metadata": {
        "id": "eO-JqNI2ghjS",
        "outputId": "a63db5a4-cff6-41fc-f15f-dd0f6f943112",
        "colab": {
          "base_uri": "https://localhost:8080/",
          "height": 351
        }
      },
      "source": [
        "sns.heatmap(special_char.corr(), cmap = 'viridis', annot = True)"
      ],
      "execution_count": 20,
      "outputs": [
        {
          "output_type": "execute_result",
          "data": {
            "text/plain": [
              "<matplotlib.axes._subplots.AxesSubplot at 0x7f4d9d325f28>"
            ]
          },
          "metadata": {
            "tags": []
          },
          "execution_count": 20
        },
        {
          "output_type": "display_data",
          "data": {
            "image/png": "[encoded data removed]",
            "text/plain": [
              "<Figure size 432x288 with 2 Axes>"
            ]
          },
          "metadata": {
            "tags": [],
            "needs_background": "light"
          }
        }
      ]
    },
    {
      "cell_type": "markdown",
      "metadata": {
        "id": "4pxpuPyUghjW"
      },
      "source": [
        "### Let us see if 'http', 'www', '.com' , count of keywords, presence of a top level domain and phishing sites are correlated"
      ]
    },
    {
      "cell_type": "code",
      "metadata": {
        "id": "geUP6MzpghjX",
        "outputId": "aae9fbf1-83cd-4a96-9fc1-48063b7c5b42",
        "colab": {
          "base_uri": "https://localhost:8080/",
          "height": 325
        }
      },
      "source": [
        "urltype = df.filter(['https', 'www', 'com', 'brandName', 'PhishingResult', 'keyword Count','countRandom','domain_gibb','tld'], axis = 1)\n",
        "urltype.corr()"
      ],
      "execution_count": 27,
      "outputs": [
        {
          "output_type": "execute_result",
          "data": {
            "text/html": [
              "<div>\n",
              "<style scoped>\n",
              "    .dataframe tbody tr th:only-of-type {\n",
              "        vertical-align: middle;\n",
              "    }\n",
              "\n",
              "    .dataframe tbody tr th {\n",
              "        vertical-align: top;\n",
              "    }\n",
              "\n",
              "    .dataframe thead th {\n",
              "        text-align: right;\n",
              "    }\n",
              "</style>\n",
              "<table border=\"1\" class=\"dataframe\">\n",
              "  <thead>\n",
              "    <tr style=\"text-align: right;\">\n",
              "      <th></th>\n",
              "      <th>https</th>\n",
              "      <th>www</th>\n",
              "      <th>com</th>\n",
              "      <th>brandName</th>\n",
              "      <th>PhishingResult</th>\n",
              "      <th>keyword Count</th>\n",
              "      <th>countRandom</th>\n",
              "      <th>domain_gibb</th>\n",
              "      <th>tld</th>\n",
              "    </tr>\n",
              "  </thead>\n",
              "  <tbody>\n",
              "    <tr>\n",
              "      <th>https</th>\n",
              "      <td>1.000000</td>\n",
              "      <td>0.045341</td>\n",
              "      <td>0.060197</td>\n",
              "      <td>0.332758</td>\n",
              "      <td>-0.445378</td>\n",
              "      <td>-0.438151</td>\n",
              "      <td>-0.213070</td>\n",
              "      <td>0.054685</td>\n",
              "      <td>0.194763</td>\n",
              "    </tr>\n",
              "    <tr>\n",
              "      <th>www</th>\n",
              "      <td>0.045341</td>\n",
              "      <td>1.000000</td>\n",
              "      <td>0.173113</td>\n",
              "      <td>-0.051482</td>\n",
              "      <td>-0.151070</td>\n",
              "      <td>0.324168</td>\n",
              "      <td>-0.095958</td>\n",
              "      <td>0.139345</td>\n",
              "      <td>0.722791</td>\n",
              "    </tr>\n",
              "    <tr>\n",
              "      <th>com</th>\n",
              "      <td>0.060197</td>\n",
              "      <td>0.173113</td>\n",
              "      <td>1.000000</td>\n",
              "      <td>-0.103981</td>\n",
              "      <td>-0.299806</td>\n",
              "      <td>0.014870</td>\n",
              "      <td>0.180279</td>\n",
              "      <td>0.845294</td>\n",
              "      <td>0.137912</td>\n",
              "    </tr>\n",
              "    <tr>\n",
              "      <th>brandName</th>\n",
              "      <td>0.332758</td>\n",
              "      <td>-0.051482</td>\n",
              "      <td>-0.103981</td>\n",
              "      <td>1.000000</td>\n",
              "      <td>-0.099490</td>\n",
              "      <td>-0.132680</td>\n",
              "      <td>-0.070002</td>\n",
              "      <td>-0.098602</td>\n",
              "      <td>0.072595</td>\n",
              "    </tr>\n",
              "    <tr>\n",
              "      <th>PhishingResult</th>\n",
              "      <td>-0.445378</td>\n",
              "      <td>-0.151070</td>\n",
              "      <td>-0.299806</td>\n",
              "      <td>-0.099490</td>\n",
              "      <td>1.000000</td>\n",
              "      <td>0.295893</td>\n",
              "      <td>0.308661</td>\n",
              "      <td>-0.273872</td>\n",
              "      <td>-0.279037</td>\n",
              "    </tr>\n",
              "    <tr>\n",
              "      <th>keyword Count</th>\n",
              "      <td>-0.438151</td>\n",
              "      <td>0.324168</td>\n",
              "      <td>0.014870</td>\n",
              "      <td>-0.132680</td>\n",
              "      <td>0.295893</td>\n",
              "      <td>1.000000</td>\n",
              "      <td>0.285282</td>\n",
              "      <td>-0.004348</td>\n",
              "      <td>0.077364</td>\n",
              "    </tr>\n",
              "    <tr>\n",
              "      <th>countRandom</th>\n",
              "      <td>-0.213070</td>\n",
              "      <td>-0.095958</td>\n",
              "      <td>0.180279</td>\n",
              "      <td>-0.070002</td>\n",
              "      <td>0.308661</td>\n",
              "      <td>0.285282</td>\n",
              "      <td>1.000000</td>\n",
              "      <td>0.248917</td>\n",
              "      <td>-0.202839</td>\n",
              "    </tr>\n",
              "    <tr>\n",
              "      <th>domain_gibb</th>\n",
              "      <td>0.054685</td>\n",
              "      <td>0.139345</td>\n",
              "      <td>0.845294</td>\n",
              "      <td>-0.098602</td>\n",
              "      <td>-0.273872</td>\n",
              "      <td>-0.004348</td>\n",
              "      <td>0.248917</td>\n",
              "      <td>1.000000</td>\n",
              "      <td>0.114776</td>\n",
              "    </tr>\n",
              "    <tr>\n",
              "      <th>tld</th>\n",
              "      <td>0.194763</td>\n",
              "      <td>0.722791</td>\n",
              "      <td>0.137912</td>\n",
              "      <td>0.072595</td>\n",
              "      <td>-0.279037</td>\n",
              "      <td>0.077364</td>\n",
              "      <td>-0.202839</td>\n",
              "      <td>0.114776</td>\n",
              "      <td>1.000000</td>\n",
              "    </tr>\n",
              "  </tbody>\n",
              "</table>\n",
              "</div>"
            ],
            "text/plain": [
              "                   https       www  ...  domain_gibb       tld\n",
              "https           1.000000  0.045341  ...     0.054685  0.194763\n",
              "www             0.045341  1.000000  ...     0.139345  0.722791\n",
              "com             0.060197  0.173113  ...     0.845294  0.137912\n",
              "brandName       0.332758 -0.051482  ...    -0.098602  0.072595\n",
              "PhishingResult -0.445378 -0.151070  ...    -0.273872 -0.279037\n",
              "keyword Count  -0.438151  0.324168  ...    -0.004348  0.077364\n",
              "countRandom    -0.213070 -0.095958  ...     0.248917 -0.202839\n",
              "domain_gibb     0.054685  0.139345  ...     1.000000  0.114776\n",
              "tld             0.194763  0.722791  ...     0.114776  1.000000\n",
              "\n",
              "[9 rows x 9 columns]"
            ]
          },
          "metadata": {
            "tags": []
          },
          "execution_count": 27
        }
      ]
    },
    {
      "cell_type": "code",
      "metadata": {
        "id": "lm3xIV2mghjb",
        "outputId": "99fdc40c-15e4-4e1e-9a2e-2822f3078952",
        "colab": {
          "base_uri": "https://localhost:8080/",
          "height": 351
        }
      },
      "source": [
        "sns.heatmap(urltype.corr(), cmap = 'Reds', annot = True)"
      ],
      "execution_count": 28,
      "outputs": [
        {
          "output_type": "execute_result",
          "data": {
            "text/plain": [
              "<matplotlib.axes._subplots.AxesSubplot at 0x7f4d9cf66eb8>"
            ]
          },
          "metadata": {
            "tags": []
          },
          "execution_count": 28
        },
        {
          "output_type": "display_data",
          "data": {
            "image/png": "[encoded data removed]",
            "text/plain": [
              "<Figure size 432x288 with 2 Axes>"
            ]
          },
          "metadata": {
            "tags": [],
            "needs_background": "light"
          }
        }
      ]
    },
    {
      "cell_type": "markdown",
      "metadata": {
        "id": "5j02HhJeghjg"
      },
      "source": [
        "### Now let us examine the relation between domain length and raw length"
      ]
    },
    {
      "cell_type": "code",
      "metadata": {
        "id": "VZ3zv4OSghjh",
        "outputId": "33e350ca-6688-4730-b34a-4287a37b7831",
        "colab": {
          "base_uri": "https://localhost:8080/",
          "height": 459
        }
      },
      "source": [
        "sns.jointplot(x='raw_length',y='domainLen',data=df,kind='scatter')"
      ],
      "execution_count": 29,
      "outputs": [
        {
          "output_type": "execute_result",
          "data": {
            "text/plain": [
              "<seaborn.axisgrid.JointGrid at 0x7f4d9cdaa198>"
            ]
          },
          "metadata": {
            "tags": []
          },
          "execution_count": 29
        },
        {
          "output_type": "display_data",
          "data": {
            "image/png": "[encoded data removed]",
            "text/plain": [
              "<Figure size 432x432 with 3 Axes>"
            ]
          },
          "metadata": {
            "tags": [],
            "needs_background": "light"
          }
        }
      ]
    }
  ]
}