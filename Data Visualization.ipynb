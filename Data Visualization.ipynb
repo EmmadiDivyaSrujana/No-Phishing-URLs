{
 "cells": [
  {
   "cell_type": "code",
   "execution_count": 1,
   "metadata": {},
   "outputs": [],
   "source": [
    "import numpy as np\n",
    "import pandas as pd"
   ]
  },
  {
   "cell_type": "code",
   "execution_count": 2,
   "metadata": {},
   "outputs": [],
   "source": [
    "import matplotlib.pyplot as plt\n",
    "import seaborn as sns\n",
    "%matplotlib inline"
   ]
  },
  {
   "cell_type": "code",
   "execution_count": 3,
   "metadata": {},
   "outputs": [],
   "source": [
    "df = pd.read_csv(\"cleaned_data.csv\")"
   ]
  },
  {
   "cell_type": "code",
   "execution_count": 4,
   "metadata": {},
   "outputs": [
    {
     "data": {
      "text/html": [
       "<div>\n",
       "<style scoped>\n",
       "    .dataframe tbody tr th:only-of-type {\n",
       "        vertical-align: middle;\n",
       "    }\n",
       "\n",
       "    .dataframe tbody tr th {\n",
       "        vertical-align: top;\n",
       "    }\n",
       "\n",
       "    .dataframe thead th {\n",
       "        text-align: right;\n",
       "    }\n",
       "</style>\n",
       "<table border=\"1\" class=\"dataframe\">\n",
       "  <thead>\n",
       "    <tr style=\"text-align: right;\">\n",
       "      <th></th>\n",
       "      <th>URLs</th>\n",
       "      <th>isPhishing</th>\n",
       "      <th>RawLength</th>\n",
       "      <th>largestWord</th>\n",
       "      <th>avgWord</th>\n",
       "      <th>smallestWord</th>\n",
       "      <th>SDlength</th>\n",
       "      <th>HTTPS</th>\n",
       "      <th>WWW</th>\n",
       "      <th>.COM</th>\n",
       "      <th>...</th>\n",
       "      <th>tld</th>\n",
       "      <th>Alexa_top_1m</th>\n",
       "      <th>underscore</th>\n",
       "      <th>equal</th>\n",
       "      <th>ampersand</th>\n",
       "      <th>question</th>\n",
       "      <th>at</th>\n",
       "      <th>dash</th>\n",
       "      <th>dot</th>\n",
       "      <th>slash</th>\n",
       "    </tr>\n",
       "  </thead>\n",
       "  <tbody>\n",
       "    <tr>\n",
       "      <th>0</th>\n",
       "      <td>13bmosecure.com</td>\n",
       "      <td>1</td>\n",
       "      <td>15</td>\n",
       "      <td>11</td>\n",
       "      <td>7</td>\n",
       "      <td>3</td>\n",
       "      <td>5.656854</td>\n",
       "      <td>0</td>\n",
       "      <td>0</td>\n",
       "      <td>1</td>\n",
       "      <td>...</td>\n",
       "      <td>1</td>\n",
       "      <td>0</td>\n",
       "      <td>0</td>\n",
       "      <td>0</td>\n",
       "      <td>0</td>\n",
       "      <td>0</td>\n",
       "      <td>0</td>\n",
       "      <td>0</td>\n",
       "      <td>1</td>\n",
       "      <td>0</td>\n",
       "    </tr>\n",
       "    <tr>\n",
       "      <th>1</th>\n",
       "      <td>34zy2.sljtm.com</td>\n",
       "      <td>1</td>\n",
       "      <td>15</td>\n",
       "      <td>5</td>\n",
       "      <td>4</td>\n",
       "      <td>3</td>\n",
       "      <td>1.154701</td>\n",
       "      <td>0</td>\n",
       "      <td>0</td>\n",
       "      <td>1</td>\n",
       "      <td>...</td>\n",
       "      <td>1</td>\n",
       "      <td>0</td>\n",
       "      <td>0</td>\n",
       "      <td>0</td>\n",
       "      <td>0</td>\n",
       "      <td>0</td>\n",
       "      <td>0</td>\n",
       "      <td>0</td>\n",
       "      <td>1</td>\n",
       "      <td>0</td>\n",
       "    </tr>\n",
       "    <tr>\n",
       "      <th>2</th>\n",
       "      <td>accountverification.online</td>\n",
       "      <td>1</td>\n",
       "      <td>26</td>\n",
       "      <td>19</td>\n",
       "      <td>12</td>\n",
       "      <td>6</td>\n",
       "      <td>9.192388</td>\n",
       "      <td>0</td>\n",
       "      <td>0</td>\n",
       "      <td>0</td>\n",
       "      <td>...</td>\n",
       "      <td>0</td>\n",
       "      <td>0</td>\n",
       "      <td>0</td>\n",
       "      <td>0</td>\n",
       "      <td>0</td>\n",
       "      <td>0</td>\n",
       "      <td>0</td>\n",
       "      <td>0</td>\n",
       "      <td>1</td>\n",
       "      <td>0</td>\n",
       "    </tr>\n",
       "    <tr>\n",
       "      <th>3</th>\n",
       "      <td>apaypal.co/Secure/PP/Paypal/</td>\n",
       "      <td>1</td>\n",
       "      <td>28</td>\n",
       "      <td>7</td>\n",
       "      <td>5</td>\n",
       "      <td>2</td>\n",
       "      <td>2.408319</td>\n",
       "      <td>0</td>\n",
       "      <td>0</td>\n",
       "      <td>0</td>\n",
       "      <td>...</td>\n",
       "      <td>0</td>\n",
       "      <td>0</td>\n",
       "      <td>0</td>\n",
       "      <td>0</td>\n",
       "      <td>0</td>\n",
       "      <td>0</td>\n",
       "      <td>0</td>\n",
       "      <td>0</td>\n",
       "      <td>1</td>\n",
       "      <td>1</td>\n",
       "    </tr>\n",
       "    <tr>\n",
       "      <th>4</th>\n",
       "      <td>app-findmyiphone.com</td>\n",
       "      <td>1</td>\n",
       "      <td>20</td>\n",
       "      <td>12</td>\n",
       "      <td>6</td>\n",
       "      <td>3</td>\n",
       "      <td>5.196152</td>\n",
       "      <td>0</td>\n",
       "      <td>0</td>\n",
       "      <td>1</td>\n",
       "      <td>...</td>\n",
       "      <td>1</td>\n",
       "      <td>0</td>\n",
       "      <td>0</td>\n",
       "      <td>0</td>\n",
       "      <td>0</td>\n",
       "      <td>0</td>\n",
       "      <td>0</td>\n",
       "      <td>1</td>\n",
       "      <td>1</td>\n",
       "      <td>0</td>\n",
       "    </tr>\n",
       "  </tbody>\n",
       "</table>\n",
       "<p>5 rows × 28 columns</p>\n",
       "</div>"
      ],
      "text/plain": [
       "                           URLs  isPhishing  RawLength  largestWord  avgWord  \\\n",
       "0               13bmosecure.com           1         15           11        7   \n",
       "1               34zy2.sljtm.com           1         15            5        4   \n",
       "2    accountverification.online           1         26           19       12   \n",
       "3  apaypal.co/Secure/PP/Paypal/           1         28            7        5   \n",
       "4          app-findmyiphone.com           1         20           12        6   \n",
       "\n",
       "   smallestWord  SDlength  HTTPS  WWW  .COM  ...  tld  Alexa_top_1m  \\\n",
       "0             3  5.656854      0    0     1  ...    1             0   \n",
       "1             3  1.154701      0    0     1  ...    1             0   \n",
       "2             6  9.192388      0    0     0  ...    0             0   \n",
       "3             2  2.408319      0    0     0  ...    0             0   \n",
       "4             3  5.196152      0    0     1  ...    1             0   \n",
       "\n",
       "   underscore  equal  ampersand  question  at  dash  dot  slash  \n",
       "0           0      0          0         0   0     0    1      0  \n",
       "1           0      0          0         0   0     0    1      0  \n",
       "2           0      0          0         0   0     0    1      0  \n",
       "3           0      0          0         0   0     0    1      1  \n",
       "4           0      0          0         0   0     1    1      0  \n",
       "\n",
       "[5 rows x 28 columns]"
      ]
     },
     "execution_count": 4,
     "metadata": {},
     "output_type": "execute_result"
    }
   ],
   "source": [
    "df.head()"
   ]
  },
  {
   "cell_type": "markdown",
   "metadata": {},
   "source": [
    "#### Let us find out if their is any null values in our prepared dataset"
   ]
  },
  {
   "cell_type": "code",
   "execution_count": 5,
   "metadata": {},
   "outputs": [
    {
     "data": {
      "text/plain": [
       "URLs              0\n",
       "isPhishing        0\n",
       "RawLength         0\n",
       "largestWord       0\n",
       "avgWord           0\n",
       "smallestWord      0\n",
       "SDlength          0\n",
       "HTTPS             0\n",
       "WWW               0\n",
       ".COM              0\n",
       "subdomainLen      0\n",
       "domainLen         0\n",
       "countSubDomain    0\n",
       "countDigitDom     0\n",
       "countDigitSub     0\n",
       "brandName         0\n",
       "countBrand        0\n",
       "keywordCount      0\n",
       "tld               0\n",
       "Alexa_top_1m      0\n",
       "underscore        0\n",
       "equal             0\n",
       "ampersand         0\n",
       "question          0\n",
       "at                0\n",
       "dash              0\n",
       "dot               0\n",
       "slash             0\n",
       "dtype: int64"
      ]
     },
     "execution_count": 5,
     "metadata": {},
     "output_type": "execute_result"
    }
   ],
   "source": [
    "df.isna().sum()"
   ]
  },
  {
   "cell_type": "markdown",
   "metadata": {},
   "source": [
    "#### Statistical Analysis on the dataset"
   ]
  },
  {
   "cell_type": "code",
   "execution_count": 6,
   "metadata": {},
   "outputs": [
    {
     "data": {
      "text/html": [
       "<div>\n",
       "<style scoped>\n",
       "    .dataframe tbody tr th:only-of-type {\n",
       "        vertical-align: middle;\n",
       "    }\n",
       "\n",
       "    .dataframe tbody tr th {\n",
       "        vertical-align: top;\n",
       "    }\n",
       "\n",
       "    .dataframe thead th {\n",
       "        text-align: right;\n",
       "    }\n",
       "</style>\n",
       "<table border=\"1\" class=\"dataframe\">\n",
       "  <thead>\n",
       "    <tr style=\"text-align: right;\">\n",
       "      <th></th>\n",
       "      <th>count</th>\n",
       "      <th>mean</th>\n",
       "      <th>std</th>\n",
       "      <th>min</th>\n",
       "      <th>25%</th>\n",
       "      <th>50%</th>\n",
       "      <th>75%</th>\n",
       "      <th>max</th>\n",
       "    </tr>\n",
       "  </thead>\n",
       "  <tbody>\n",
       "    <tr>\n",
       "      <th>isPhishing</th>\n",
       "      <td>54763.0</td>\n",
       "      <td>0.453828</td>\n",
       "      <td>0.497868</td>\n",
       "      <td>0.000000</td>\n",
       "      <td>0.00000</td>\n",
       "      <td>0.000000</td>\n",
       "      <td>1.00000</td>\n",
       "      <td>1.000000</td>\n",
       "    </tr>\n",
       "    <tr>\n",
       "      <th>RawLength</th>\n",
       "      <td>54763.0</td>\n",
       "      <td>67.596571</td>\n",
       "      <td>51.129908</td>\n",
       "      <td>9.000000</td>\n",
       "      <td>43.00000</td>\n",
       "      <td>56.000000</td>\n",
       "      <td>75.00000</td>\n",
       "      <td>3992.000000</td>\n",
       "    </tr>\n",
       "    <tr>\n",
       "      <th>largestWord</th>\n",
       "      <td>54763.0</td>\n",
       "      <td>15.319577</td>\n",
       "      <td>18.379375</td>\n",
       "      <td>4.000000</td>\n",
       "      <td>9.00000</td>\n",
       "      <td>12.000000</td>\n",
       "      <td>16.00000</td>\n",
       "      <td>1070.000000</td>\n",
       "    </tr>\n",
       "    <tr>\n",
       "      <th>avgWord</th>\n",
       "      <td>54763.0</td>\n",
       "      <td>6.195789</td>\n",
       "      <td>2.670164</td>\n",
       "      <td>2.000000</td>\n",
       "      <td>5.00000</td>\n",
       "      <td>6.000000</td>\n",
       "      <td>7.00000</td>\n",
       "      <td>95.000000</td>\n",
       "    </tr>\n",
       "    <tr>\n",
       "      <th>smallestWord</th>\n",
       "      <td>54763.0</td>\n",
       "      <td>2.340394</td>\n",
       "      <td>0.683372</td>\n",
       "      <td>1.000000</td>\n",
       "      <td>2.00000</td>\n",
       "      <td>2.000000</td>\n",
       "      <td>3.00000</td>\n",
       "      <td>7.000000</td>\n",
       "    </tr>\n",
       "    <tr>\n",
       "      <th>SDlength</th>\n",
       "      <td>54763.0</td>\n",
       "      <td>4.412953</td>\n",
       "      <td>5.900174</td>\n",
       "      <td>0.632456</td>\n",
       "      <td>2.44949</td>\n",
       "      <td>3.233751</td>\n",
       "      <td>4.70562</td>\n",
       "      <td>307.046586</td>\n",
       "    </tr>\n",
       "    <tr>\n",
       "      <th>HTTPS</th>\n",
       "      <td>54763.0</td>\n",
       "      <td>0.206636</td>\n",
       "      <td>0.404896</td>\n",
       "      <td>0.000000</td>\n",
       "      <td>0.00000</td>\n",
       "      <td>0.000000</td>\n",
       "      <td>0.00000</td>\n",
       "      <td>1.000000</td>\n",
       "    </tr>\n",
       "    <tr>\n",
       "      <th>WWW</th>\n",
       "      <td>54763.0</td>\n",
       "      <td>0.447565</td>\n",
       "      <td>0.497248</td>\n",
       "      <td>0.000000</td>\n",
       "      <td>0.00000</td>\n",
       "      <td>0.000000</td>\n",
       "      <td>1.00000</td>\n",
       "      <td>1.000000</td>\n",
       "    </tr>\n",
       "    <tr>\n",
       "      <th>.COM</th>\n",
       "      <td>54763.0</td>\n",
       "      <td>0.682030</td>\n",
       "      <td>0.465692</td>\n",
       "      <td>0.000000</td>\n",
       "      <td>0.00000</td>\n",
       "      <td>1.000000</td>\n",
       "      <td>1.00000</td>\n",
       "      <td>1.000000</td>\n",
       "    </tr>\n",
       "    <tr>\n",
       "      <th>subdomainLen</th>\n",
       "      <td>54763.0</td>\n",
       "      <td>2.895020</td>\n",
       "      <td>5.516366</td>\n",
       "      <td>0.000000</td>\n",
       "      <td>0.00000</td>\n",
       "      <td>3.000000</td>\n",
       "      <td>3.00000</td>\n",
       "      <td>222.000000</td>\n",
       "    </tr>\n",
       "    <tr>\n",
       "      <th>domainLen</th>\n",
       "      <td>54763.0</td>\n",
       "      <td>10.732009</td>\n",
       "      <td>4.881053</td>\n",
       "      <td>2.000000</td>\n",
       "      <td>7.00000</td>\n",
       "      <td>10.000000</td>\n",
       "      <td>14.00000</td>\n",
       "      <td>50.000000</td>\n",
       "    </tr>\n",
       "    <tr>\n",
       "      <th>countSubDomain</th>\n",
       "      <td>54763.0</td>\n",
       "      <td>1.315012</td>\n",
       "      <td>0.661553</td>\n",
       "      <td>1.000000</td>\n",
       "      <td>1.00000</td>\n",
       "      <td>1.000000</td>\n",
       "      <td>2.00000</td>\n",
       "      <td>27.000000</td>\n",
       "    </tr>\n",
       "    <tr>\n",
       "      <th>countDigitDom</th>\n",
       "      <td>54763.0</td>\n",
       "      <td>0.113653</td>\n",
       "      <td>0.733269</td>\n",
       "      <td>0.000000</td>\n",
       "      <td>0.00000</td>\n",
       "      <td>0.000000</td>\n",
       "      <td>0.00000</td>\n",
       "      <td>12.000000</td>\n",
       "    </tr>\n",
       "    <tr>\n",
       "      <th>countDigitSub</th>\n",
       "      <td>54763.0</td>\n",
       "      <td>0.101236</td>\n",
       "      <td>1.299332</td>\n",
       "      <td>0.000000</td>\n",
       "      <td>0.00000</td>\n",
       "      <td>0.000000</td>\n",
       "      <td>0.00000</td>\n",
       "      <td>85.000000</td>\n",
       "    </tr>\n",
       "    <tr>\n",
       "      <th>brandName</th>\n",
       "      <td>54763.0</td>\n",
       "      <td>0.212936</td>\n",
       "      <td>0.409386</td>\n",
       "      <td>0.000000</td>\n",
       "      <td>0.00000</td>\n",
       "      <td>0.000000</td>\n",
       "      <td>0.00000</td>\n",
       "      <td>1.000000</td>\n",
       "    </tr>\n",
       "    <tr>\n",
       "      <th>countBrand</th>\n",
       "      <td>54763.0</td>\n",
       "      <td>0.227435</td>\n",
       "      <td>0.455465</td>\n",
       "      <td>0.000000</td>\n",
       "      <td>0.00000</td>\n",
       "      <td>0.000000</td>\n",
       "      <td>0.00000</td>\n",
       "      <td>4.000000</td>\n",
       "    </tr>\n",
       "    <tr>\n",
       "      <th>keywordCount</th>\n",
       "      <td>54763.0</td>\n",
       "      <td>4.129686</td>\n",
       "      <td>1.766805</td>\n",
       "      <td>0.000000</td>\n",
       "      <td>3.00000</td>\n",
       "      <td>4.000000</td>\n",
       "      <td>5.00000</td>\n",
       "      <td>16.000000</td>\n",
       "    </tr>\n",
       "    <tr>\n",
       "      <th>tld</th>\n",
       "      <td>54763.0</td>\n",
       "      <td>0.751438</td>\n",
       "      <td>0.432183</td>\n",
       "      <td>0.000000</td>\n",
       "      <td>1.00000</td>\n",
       "      <td>1.000000</td>\n",
       "      <td>1.00000</td>\n",
       "      <td>1.000000</td>\n",
       "    </tr>\n",
       "    <tr>\n",
       "      <th>Alexa_top_1m</th>\n",
       "      <td>54763.0</td>\n",
       "      <td>0.000000</td>\n",
       "      <td>0.000000</td>\n",
       "      <td>0.000000</td>\n",
       "      <td>0.00000</td>\n",
       "      <td>0.000000</td>\n",
       "      <td>0.00000</td>\n",
       "      <td>0.000000</td>\n",
       "    </tr>\n",
       "    <tr>\n",
       "      <th>underscore</th>\n",
       "      <td>54763.0</td>\n",
       "      <td>0.115662</td>\n",
       "      <td>0.319822</td>\n",
       "      <td>0.000000</td>\n",
       "      <td>0.00000</td>\n",
       "      <td>0.000000</td>\n",
       "      <td>0.00000</td>\n",
       "      <td>1.000000</td>\n",
       "    </tr>\n",
       "    <tr>\n",
       "      <th>equal</th>\n",
       "      <td>54763.0</td>\n",
       "      <td>0.115662</td>\n",
       "      <td>0.319822</td>\n",
       "      <td>0.000000</td>\n",
       "      <td>0.00000</td>\n",
       "      <td>0.000000</td>\n",
       "      <td>0.00000</td>\n",
       "      <td>1.000000</td>\n",
       "    </tr>\n",
       "    <tr>\n",
       "      <th>ampersand</th>\n",
       "      <td>54763.0</td>\n",
       "      <td>0.053467</td>\n",
       "      <td>0.224964</td>\n",
       "      <td>0.000000</td>\n",
       "      <td>0.00000</td>\n",
       "      <td>0.000000</td>\n",
       "      <td>0.00000</td>\n",
       "      <td>1.000000</td>\n",
       "    </tr>\n",
       "    <tr>\n",
       "      <th>question</th>\n",
       "      <td>54763.0</td>\n",
       "      <td>0.119132</td>\n",
       "      <td>0.323946</td>\n",
       "      <td>0.000000</td>\n",
       "      <td>0.00000</td>\n",
       "      <td>0.000000</td>\n",
       "      <td>0.00000</td>\n",
       "      <td>1.000000</td>\n",
       "    </tr>\n",
       "    <tr>\n",
       "      <th>at</th>\n",
       "      <td>54763.0</td>\n",
       "      <td>0.024761</td>\n",
       "      <td>0.155398</td>\n",
       "      <td>0.000000</td>\n",
       "      <td>0.00000</td>\n",
       "      <td>0.000000</td>\n",
       "      <td>0.00000</td>\n",
       "      <td>1.000000</td>\n",
       "    </tr>\n",
       "    <tr>\n",
       "      <th>dash</th>\n",
       "      <td>54763.0</td>\n",
       "      <td>0.464730</td>\n",
       "      <td>0.498759</td>\n",
       "      <td>0.000000</td>\n",
       "      <td>0.00000</td>\n",
       "      <td>0.000000</td>\n",
       "      <td>1.00000</td>\n",
       "      <td>1.000000</td>\n",
       "    </tr>\n",
       "    <tr>\n",
       "      <th>dot</th>\n",
       "      <td>54763.0</td>\n",
       "      <td>1.000000</td>\n",
       "      <td>0.000000</td>\n",
       "      <td>1.000000</td>\n",
       "      <td>1.00000</td>\n",
       "      <td>1.000000</td>\n",
       "      <td>1.00000</td>\n",
       "      <td>1.000000</td>\n",
       "    </tr>\n",
       "    <tr>\n",
       "      <th>slash</th>\n",
       "      <td>54763.0</td>\n",
       "      <td>0.998630</td>\n",
       "      <td>0.036982</td>\n",
       "      <td>0.000000</td>\n",
       "      <td>1.00000</td>\n",
       "      <td>1.000000</td>\n",
       "      <td>1.00000</td>\n",
       "      <td>1.000000</td>\n",
       "    </tr>\n",
       "  </tbody>\n",
       "</table>\n",
       "</div>"
      ],
      "text/plain": [
       "                  count       mean        std       min       25%        50%  \\\n",
       "isPhishing      54763.0   0.453828   0.497868  0.000000   0.00000   0.000000   \n",
       "RawLength       54763.0  67.596571  51.129908  9.000000  43.00000  56.000000   \n",
       "largestWord     54763.0  15.319577  18.379375  4.000000   9.00000  12.000000   \n",
       "avgWord         54763.0   6.195789   2.670164  2.000000   5.00000   6.000000   \n",
       "smallestWord    54763.0   2.340394   0.683372  1.000000   2.00000   2.000000   \n",
       "SDlength        54763.0   4.412953   5.900174  0.632456   2.44949   3.233751   \n",
       "HTTPS           54763.0   0.206636   0.404896  0.000000   0.00000   0.000000   \n",
       "WWW             54763.0   0.447565   0.497248  0.000000   0.00000   0.000000   \n",
       ".COM            54763.0   0.682030   0.465692  0.000000   0.00000   1.000000   \n",
       "subdomainLen    54763.0   2.895020   5.516366  0.000000   0.00000   3.000000   \n",
       "domainLen       54763.0  10.732009   4.881053  2.000000   7.00000  10.000000   \n",
       "countSubDomain  54763.0   1.315012   0.661553  1.000000   1.00000   1.000000   \n",
       "countDigitDom   54763.0   0.113653   0.733269  0.000000   0.00000   0.000000   \n",
       "countDigitSub   54763.0   0.101236   1.299332  0.000000   0.00000   0.000000   \n",
       "brandName       54763.0   0.212936   0.409386  0.000000   0.00000   0.000000   \n",
       "countBrand      54763.0   0.227435   0.455465  0.000000   0.00000   0.000000   \n",
       "keywordCount    54763.0   4.129686   1.766805  0.000000   3.00000   4.000000   \n",
       "tld             54763.0   0.751438   0.432183  0.000000   1.00000   1.000000   \n",
       "Alexa_top_1m    54763.0   0.000000   0.000000  0.000000   0.00000   0.000000   \n",
       "underscore      54763.0   0.115662   0.319822  0.000000   0.00000   0.000000   \n",
       "equal           54763.0   0.115662   0.319822  0.000000   0.00000   0.000000   \n",
       "ampersand       54763.0   0.053467   0.224964  0.000000   0.00000   0.000000   \n",
       "question        54763.0   0.119132   0.323946  0.000000   0.00000   0.000000   \n",
       "at              54763.0   0.024761   0.155398  0.000000   0.00000   0.000000   \n",
       "dash            54763.0   0.464730   0.498759  0.000000   0.00000   0.000000   \n",
       "dot             54763.0   1.000000   0.000000  1.000000   1.00000   1.000000   \n",
       "slash           54763.0   0.998630   0.036982  0.000000   1.00000   1.000000   \n",
       "\n",
       "                     75%          max  \n",
       "isPhishing       1.00000     1.000000  \n",
       "RawLength       75.00000  3992.000000  \n",
       "largestWord     16.00000  1070.000000  \n",
       "avgWord          7.00000    95.000000  \n",
       "smallestWord     3.00000     7.000000  \n",
       "SDlength         4.70562   307.046586  \n",
       "HTTPS            0.00000     1.000000  \n",
       "WWW              1.00000     1.000000  \n",
       ".COM             1.00000     1.000000  \n",
       "subdomainLen     3.00000   222.000000  \n",
       "domainLen       14.00000    50.000000  \n",
       "countSubDomain   2.00000    27.000000  \n",
       "countDigitDom    0.00000    12.000000  \n",
       "countDigitSub    0.00000    85.000000  \n",
       "brandName        0.00000     1.000000  \n",
       "countBrand       0.00000     4.000000  \n",
       "keywordCount     5.00000    16.000000  \n",
       "tld              1.00000     1.000000  \n",
       "Alexa_top_1m     0.00000     0.000000  \n",
       "underscore       0.00000     1.000000  \n",
       "equal            0.00000     1.000000  \n",
       "ampersand        0.00000     1.000000  \n",
       "question         0.00000     1.000000  \n",
       "at               0.00000     1.000000  \n",
       "dash             1.00000     1.000000  \n",
       "dot              1.00000     1.000000  \n",
       "slash            1.00000     1.000000  "
      ]
     },
     "execution_count": 6,
     "metadata": {},
     "output_type": "execute_result"
    }
   ],
   "source": [
    "df.describe().transpose()"
   ]
  },
  {
   "cell_type": "code",
   "execution_count": 7,
   "metadata": {},
   "outputs": [
    {
     "data": {
      "text/plain": [
       "<matplotlib.axes._subplots.AxesSubplot at 0x16b69ecb108>"
      ]
     },
     "execution_count": 7,
     "metadata": {},
     "output_type": "execute_result"
    },
    {
     "data": {
      "image/png": "[encoded data removed]",
      "text/plain": [
       "<Figure size 432x288 with 1 Axes>"
      ]
     },
     "metadata": {
      "needs_background": "light"
     },
     "output_type": "display_data"
    }
   ],
   "source": [
    "sns.distplot(df['RawLength'])"
   ]
  },
  {
   "cell_type": "code",
   "execution_count": 8,
   "metadata": {},
   "outputs": [
    {
     "data": {
      "text/plain": [
       "0.9964392016507496"
      ]
     },
     "execution_count": 8,
     "metadata": {},
     "output_type": "execute_result"
    }
   ],
   "source": [
    "df_new = df[df.RawLength <= 300]\n",
    "len(df_new)/len(df)"
   ]
  },
  {
   "cell_type": "markdown",
   "metadata": {},
   "source": [
    "#### Since, there are very few urls greater than 300, let us analyse the urls with length less than 300"
   ]
  },
  {
   "cell_type": "code",
   "execution_count": 9,
   "metadata": {},
   "outputs": [
    {
     "data": {
      "text/html": [
       "<div>\n",
       "<style scoped>\n",
       "    .dataframe tbody tr th:only-of-type {\n",
       "        vertical-align: middle;\n",
       "    }\n",
       "\n",
       "    .dataframe tbody tr th {\n",
       "        vertical-align: top;\n",
       "    }\n",
       "\n",
       "    .dataframe thead th {\n",
       "        text-align: right;\n",
       "    }\n",
       "</style>\n",
       "<table border=\"1\" class=\"dataframe\">\n",
       "  <thead>\n",
       "    <tr style=\"text-align: right;\">\n",
       "      <th></th>\n",
       "      <th>count</th>\n",
       "      <th>mean</th>\n",
       "      <th>std</th>\n",
       "      <th>min</th>\n",
       "      <th>25%</th>\n",
       "      <th>50%</th>\n",
       "      <th>75%</th>\n",
       "      <th>max</th>\n",
       "    </tr>\n",
       "  </thead>\n",
       "  <tbody>\n",
       "    <tr>\n",
       "      <th>isPhishing</th>\n",
       "      <td>54568.0</td>\n",
       "      <td>0.451913</td>\n",
       "      <td>0.497687</td>\n",
       "      <td>0.000000</td>\n",
       "      <td>0.000000</td>\n",
       "      <td>0.000000</td>\n",
       "      <td>1.000000</td>\n",
       "      <td>1.000000</td>\n",
       "    </tr>\n",
       "    <tr>\n",
       "      <th>RawLength</th>\n",
       "      <td>54568.0</td>\n",
       "      <td>66.330175</td>\n",
       "      <td>40.465790</td>\n",
       "      <td>9.000000</td>\n",
       "      <td>43.000000</td>\n",
       "      <td>56.000000</td>\n",
       "      <td>75.000000</td>\n",
       "      <td>300.000000</td>\n",
       "    </tr>\n",
       "    <tr>\n",
       "      <th>largestWord</th>\n",
       "      <td>54568.0</td>\n",
       "      <td>15.011399</td>\n",
       "      <td>14.681062</td>\n",
       "      <td>4.000000</td>\n",
       "      <td>9.000000</td>\n",
       "      <td>12.000000</td>\n",
       "      <td>16.000000</td>\n",
       "      <td>208.000000</td>\n",
       "    </tr>\n",
       "    <tr>\n",
       "      <th>avgWord</th>\n",
       "      <td>54568.0</td>\n",
       "      <td>6.156026</td>\n",
       "      <td>2.335526</td>\n",
       "      <td>2.000000</td>\n",
       "      <td>5.000000</td>\n",
       "      <td>6.000000</td>\n",
       "      <td>7.000000</td>\n",
       "      <td>40.000000</td>\n",
       "    </tr>\n",
       "    <tr>\n",
       "      <th>smallestWord</th>\n",
       "      <td>54568.0</td>\n",
       "      <td>2.343333</td>\n",
       "      <td>0.681412</td>\n",
       "      <td>1.000000</td>\n",
       "      <td>2.000000</td>\n",
       "      <td>2.000000</td>\n",
       "      <td>3.000000</td>\n",
       "      <td>7.000000</td>\n",
       "    </tr>\n",
       "    <tr>\n",
       "      <th>SDlength</th>\n",
       "      <td>54568.0</td>\n",
       "      <td>4.324844</td>\n",
       "      <td>4.836692</td>\n",
       "      <td>0.632456</td>\n",
       "      <td>2.445842</td>\n",
       "      <td>3.226564</td>\n",
       "      <td>4.676181</td>\n",
       "      <td>76.761536</td>\n",
       "    </tr>\n",
       "    <tr>\n",
       "      <th>HTTPS</th>\n",
       "      <td>54568.0</td>\n",
       "      <td>0.207356</td>\n",
       "      <td>0.405416</td>\n",
       "      <td>0.000000</td>\n",
       "      <td>0.000000</td>\n",
       "      <td>0.000000</td>\n",
       "      <td>0.000000</td>\n",
       "      <td>1.000000</td>\n",
       "    </tr>\n",
       "    <tr>\n",
       "      <th>WWW</th>\n",
       "      <td>54568.0</td>\n",
       "      <td>0.447937</td>\n",
       "      <td>0.497287</td>\n",
       "      <td>0.000000</td>\n",
       "      <td>0.000000</td>\n",
       "      <td>0.000000</td>\n",
       "      <td>1.000000</td>\n",
       "      <td>1.000000</td>\n",
       "    </tr>\n",
       "    <tr>\n",
       "      <th>.COM</th>\n",
       "      <td>54568.0</td>\n",
       "      <td>0.681462</td>\n",
       "      <td>0.465914</td>\n",
       "      <td>0.000000</td>\n",
       "      <td>0.000000</td>\n",
       "      <td>1.000000</td>\n",
       "      <td>1.000000</td>\n",
       "      <td>1.000000</td>\n",
       "    </tr>\n",
       "    <tr>\n",
       "      <th>subdomainLen</th>\n",
       "      <td>54568.0</td>\n",
       "      <td>2.887278</td>\n",
       "      <td>5.421105</td>\n",
       "      <td>0.000000</td>\n",
       "      <td>0.000000</td>\n",
       "      <td>3.000000</td>\n",
       "      <td>3.000000</td>\n",
       "      <td>222.000000</td>\n",
       "    </tr>\n",
       "    <tr>\n",
       "      <th>domainLen</th>\n",
       "      <td>54568.0</td>\n",
       "      <td>10.721009</td>\n",
       "      <td>4.873394</td>\n",
       "      <td>2.000000</td>\n",
       "      <td>7.000000</td>\n",
       "      <td>10.000000</td>\n",
       "      <td>14.000000</td>\n",
       "      <td>50.000000</td>\n",
       "    </tr>\n",
       "    <tr>\n",
       "      <th>countSubDomain</th>\n",
       "      <td>54568.0</td>\n",
       "      <td>1.314049</td>\n",
       "      <td>0.656628</td>\n",
       "      <td>1.000000</td>\n",
       "      <td>1.000000</td>\n",
       "      <td>1.000000</td>\n",
       "      <td>2.000000</td>\n",
       "      <td>27.000000</td>\n",
       "    </tr>\n",
       "    <tr>\n",
       "      <th>countDigitDom</th>\n",
       "      <td>54568.0</td>\n",
       "      <td>0.113638</td>\n",
       "      <td>0.733851</td>\n",
       "      <td>0.000000</td>\n",
       "      <td>0.000000</td>\n",
       "      <td>0.000000</td>\n",
       "      <td>0.000000</td>\n",
       "      <td>12.000000</td>\n",
       "    </tr>\n",
       "    <tr>\n",
       "      <th>countDigitSub</th>\n",
       "      <td>54568.0</td>\n",
       "      <td>0.098776</td>\n",
       "      <td>1.287658</td>\n",
       "      <td>0.000000</td>\n",
       "      <td>0.000000</td>\n",
       "      <td>0.000000</td>\n",
       "      <td>0.000000</td>\n",
       "      <td>85.000000</td>\n",
       "    </tr>\n",
       "    <tr>\n",
       "      <th>brandName</th>\n",
       "      <td>54568.0</td>\n",
       "      <td>0.212432</td>\n",
       "      <td>0.409033</td>\n",
       "      <td>0.000000</td>\n",
       "      <td>0.000000</td>\n",
       "      <td>0.000000</td>\n",
       "      <td>0.000000</td>\n",
       "      <td>1.000000</td>\n",
       "    </tr>\n",
       "    <tr>\n",
       "      <th>countBrand</th>\n",
       "      <td>54568.0</td>\n",
       "      <td>0.226671</td>\n",
       "      <td>0.454326</td>\n",
       "      <td>0.000000</td>\n",
       "      <td>0.000000</td>\n",
       "      <td>0.000000</td>\n",
       "      <td>0.000000</td>\n",
       "      <td>4.000000</td>\n",
       "    </tr>\n",
       "    <tr>\n",
       "      <th>keywordCount</th>\n",
       "      <td>54568.0</td>\n",
       "      <td>4.115416</td>\n",
       "      <td>1.745720</td>\n",
       "      <td>0.000000</td>\n",
       "      <td>3.000000</td>\n",
       "      <td>4.000000</td>\n",
       "      <td>5.000000</td>\n",
       "      <td>16.000000</td>\n",
       "    </tr>\n",
       "    <tr>\n",
       "      <th>tld</th>\n",
       "      <td>54568.0</td>\n",
       "      <td>0.751521</td>\n",
       "      <td>0.432135</td>\n",
       "      <td>0.000000</td>\n",
       "      <td>1.000000</td>\n",
       "      <td>1.000000</td>\n",
       "      <td>1.000000</td>\n",
       "      <td>1.000000</td>\n",
       "    </tr>\n",
       "    <tr>\n",
       "      <th>Alexa_top_1m</th>\n",
       "      <td>54568.0</td>\n",
       "      <td>0.000000</td>\n",
       "      <td>0.000000</td>\n",
       "      <td>0.000000</td>\n",
       "      <td>0.000000</td>\n",
       "      <td>0.000000</td>\n",
       "      <td>0.000000</td>\n",
       "      <td>0.000000</td>\n",
       "    </tr>\n",
       "    <tr>\n",
       "      <th>underscore</th>\n",
       "      <td>54568.0</td>\n",
       "      <td>0.112703</td>\n",
       "      <td>0.316233</td>\n",
       "      <td>0.000000</td>\n",
       "      <td>0.000000</td>\n",
       "      <td>0.000000</td>\n",
       "      <td>0.000000</td>\n",
       "      <td>1.000000</td>\n",
       "    </tr>\n",
       "    <tr>\n",
       "      <th>equal</th>\n",
       "      <td>54568.0</td>\n",
       "      <td>0.112703</td>\n",
       "      <td>0.316233</td>\n",
       "      <td>0.000000</td>\n",
       "      <td>0.000000</td>\n",
       "      <td>0.000000</td>\n",
       "      <td>0.000000</td>\n",
       "      <td>1.000000</td>\n",
       "    </tr>\n",
       "    <tr>\n",
       "      <th>ampersand</th>\n",
       "      <td>54568.0</td>\n",
       "      <td>0.051074</td>\n",
       "      <td>0.220150</td>\n",
       "      <td>0.000000</td>\n",
       "      <td>0.000000</td>\n",
       "      <td>0.000000</td>\n",
       "      <td>0.000000</td>\n",
       "      <td>1.000000</td>\n",
       "    </tr>\n",
       "    <tr>\n",
       "      <th>question</th>\n",
       "      <td>54568.0</td>\n",
       "      <td>0.116075</td>\n",
       "      <td>0.320318</td>\n",
       "      <td>0.000000</td>\n",
       "      <td>0.000000</td>\n",
       "      <td>0.000000</td>\n",
       "      <td>0.000000</td>\n",
       "      <td>1.000000</td>\n",
       "    </tr>\n",
       "    <tr>\n",
       "      <th>at</th>\n",
       "      <td>54568.0</td>\n",
       "      <td>0.023585</td>\n",
       "      <td>0.151754</td>\n",
       "      <td>0.000000</td>\n",
       "      <td>0.000000</td>\n",
       "      <td>0.000000</td>\n",
       "      <td>0.000000</td>\n",
       "      <td>1.000000</td>\n",
       "    </tr>\n",
       "    <tr>\n",
       "      <th>dash</th>\n",
       "      <td>54568.0</td>\n",
       "      <td>0.464082</td>\n",
       "      <td>0.498713</td>\n",
       "      <td>0.000000</td>\n",
       "      <td>0.000000</td>\n",
       "      <td>0.000000</td>\n",
       "      <td>1.000000</td>\n",
       "      <td>1.000000</td>\n",
       "    </tr>\n",
       "    <tr>\n",
       "      <th>dot</th>\n",
       "      <td>54568.0</td>\n",
       "      <td>1.000000</td>\n",
       "      <td>0.000000</td>\n",
       "      <td>1.000000</td>\n",
       "      <td>1.000000</td>\n",
       "      <td>1.000000</td>\n",
       "      <td>1.000000</td>\n",
       "      <td>1.000000</td>\n",
       "    </tr>\n",
       "    <tr>\n",
       "      <th>slash</th>\n",
       "      <td>54568.0</td>\n",
       "      <td>0.998626</td>\n",
       "      <td>0.037048</td>\n",
       "      <td>0.000000</td>\n",
       "      <td>1.000000</td>\n",
       "      <td>1.000000</td>\n",
       "      <td>1.000000</td>\n",
       "      <td>1.000000</td>\n",
       "    </tr>\n",
       "  </tbody>\n",
       "</table>\n",
       "</div>"
      ],
      "text/plain": [
       "                  count       mean        std       min        25%        50%  \\\n",
       "isPhishing      54568.0   0.451913   0.497687  0.000000   0.000000   0.000000   \n",
       "RawLength       54568.0  66.330175  40.465790  9.000000  43.000000  56.000000   \n",
       "largestWord     54568.0  15.011399  14.681062  4.000000   9.000000  12.000000   \n",
       "avgWord         54568.0   6.156026   2.335526  2.000000   5.000000   6.000000   \n",
       "smallestWord    54568.0   2.343333   0.681412  1.000000   2.000000   2.000000   \n",
       "SDlength        54568.0   4.324844   4.836692  0.632456   2.445842   3.226564   \n",
       "HTTPS           54568.0   0.207356   0.405416  0.000000   0.000000   0.000000   \n",
       "WWW             54568.0   0.447937   0.497287  0.000000   0.000000   0.000000   \n",
       ".COM            54568.0   0.681462   0.465914  0.000000   0.000000   1.000000   \n",
       "subdomainLen    54568.0   2.887278   5.421105  0.000000   0.000000   3.000000   \n",
       "domainLen       54568.0  10.721009   4.873394  2.000000   7.000000  10.000000   \n",
       "countSubDomain  54568.0   1.314049   0.656628  1.000000   1.000000   1.000000   \n",
       "countDigitDom   54568.0   0.113638   0.733851  0.000000   0.000000   0.000000   \n",
       "countDigitSub   54568.0   0.098776   1.287658  0.000000   0.000000   0.000000   \n",
       "brandName       54568.0   0.212432   0.409033  0.000000   0.000000   0.000000   \n",
       "countBrand      54568.0   0.226671   0.454326  0.000000   0.000000   0.000000   \n",
       "keywordCount    54568.0   4.115416   1.745720  0.000000   3.000000   4.000000   \n",
       "tld             54568.0   0.751521   0.432135  0.000000   1.000000   1.000000   \n",
       "Alexa_top_1m    54568.0   0.000000   0.000000  0.000000   0.000000   0.000000   \n",
       "underscore      54568.0   0.112703   0.316233  0.000000   0.000000   0.000000   \n",
       "equal           54568.0   0.112703   0.316233  0.000000   0.000000   0.000000   \n",
       "ampersand       54568.0   0.051074   0.220150  0.000000   0.000000   0.000000   \n",
       "question        54568.0   0.116075   0.320318  0.000000   0.000000   0.000000   \n",
       "at              54568.0   0.023585   0.151754  0.000000   0.000000   0.000000   \n",
       "dash            54568.0   0.464082   0.498713  0.000000   0.000000   0.000000   \n",
       "dot             54568.0   1.000000   0.000000  1.000000   1.000000   1.000000   \n",
       "slash           54568.0   0.998626   0.037048  0.000000   1.000000   1.000000   \n",
       "\n",
       "                      75%         max  \n",
       "isPhishing       1.000000    1.000000  \n",
       "RawLength       75.000000  300.000000  \n",
       "largestWord     16.000000  208.000000  \n",
       "avgWord          7.000000   40.000000  \n",
       "smallestWord     3.000000    7.000000  \n",
       "SDlength         4.676181   76.761536  \n",
       "HTTPS            0.000000    1.000000  \n",
       "WWW              1.000000    1.000000  \n",
       ".COM             1.000000    1.000000  \n",
       "subdomainLen     3.000000  222.000000  \n",
       "domainLen       14.000000   50.000000  \n",
       "countSubDomain   2.000000   27.000000  \n",
       "countDigitDom    0.000000   12.000000  \n",
       "countDigitSub    0.000000   85.000000  \n",
       "brandName        0.000000    1.000000  \n",
       "countBrand       0.000000    4.000000  \n",
       "keywordCount     5.000000   16.000000  \n",
       "tld              1.000000    1.000000  \n",
       "Alexa_top_1m     0.000000    0.000000  \n",
       "underscore       0.000000    1.000000  \n",
       "equal            0.000000    1.000000  \n",
       "ampersand        0.000000    1.000000  \n",
       "question         0.000000    1.000000  \n",
       "at               0.000000    1.000000  \n",
       "dash             1.000000    1.000000  \n",
       "dot              1.000000    1.000000  \n",
       "slash            1.000000    1.000000  "
      ]
     },
     "execution_count": 9,
     "metadata": {},
     "output_type": "execute_result"
    }
   ],
   "source": [
    "df_new.describe().transpose()"
   ]
  },
  {
   "cell_type": "code",
   "execution_count": 10,
   "metadata": {},
   "outputs": [
    {
     "data": {
      "text/plain": [
       "<matplotlib.axes._subplots.AxesSubplot at 0x16b6d318948>"
      ]
     },
     "execution_count": 10,
     "metadata": {},
     "output_type": "execute_result"
    },
    {
     "data": {
      "image/png": "[encoded data removed]",
      "text/plain": [
       "<Figure size 432x288 with 1 Axes>"
      ]
     },
     "metadata": {
      "needs_background": "light"
     },
     "output_type": "display_data"
    }
   ],
   "source": [
    "sns.distplot(df_new['RawLength'], bins = 30)"
   ]
  },
  {
   "cell_type": "markdown",
   "metadata": {},
   "source": [
    "### Let us see the distribution of Phishing V/S Non-Phishing URLS"
   ]
  },
  {
   "cell_type": "code",
   "execution_count": 11,
   "metadata": {},
   "outputs": [
    {
     "data": {
      "text/plain": [
       "0    29910\n",
       "1    24853\n",
       "Name: isPhishing, dtype: int64"
      ]
     },
     "execution_count": 11,
     "metadata": {},
     "output_type": "execute_result"
    }
   ],
   "source": [
    "df.isPhishing.value_counts()"
   ]
  },
  {
   "cell_type": "code",
   "execution_count": 12,
   "metadata": {},
   "outputs": [
    {
     "data": {
      "text/plain": [
       "0    54.617169\n",
       "1    45.382831\n",
       "Name: isPhishing, dtype: float64"
      ]
     },
     "execution_count": 12,
     "metadata": {},
     "output_type": "execute_result"
    }
   ],
   "source": [
    "(df.isPhishing.value_counts()/len(df))*100"
   ]
  },
  {
   "cell_type": "code",
   "execution_count": 13,
   "metadata": {},
   "outputs": [
    {
     "data": {
      "image/png": "[encoded data removed]",
      "text/plain": [
       "<Figure size 432x288 with 1 Axes>"
      ]
     },
     "metadata": {},
     "output_type": "display_data"
    }
   ],
   "source": [
    "isPhishing = df['isPhishing'].value_counts()\n",
    "labels = df.isPhishing.unique()\n",
    "plt.pie(isPhishing,labels=labels,autopct=\"%1.1f%%\",shadow=True,explode=(0.04,0.04),startangle=90)\n",
    "plt.title('PHISHING URL DISTRIBUTION',fontsize=15)\n",
    "plt.show()"
   ]
  },
  {
   "cell_type": "code",
   "execution_count": 14,
   "metadata": {},
   "outputs": [
    {
     "data": {
      "text/plain": [
       "<matplotlib.axes._subplots.AxesSubplot at 0x16b6d49e688>"
      ]
     },
     "execution_count": 14,
     "metadata": {},
     "output_type": "execute_result"
    },
    {
     "data": {
      "image/png": "[encoded data removed]",
      "text/plain": [
       "<Figure size 432x288 with 1 Axes>"
      ]
     },
     "metadata": {
      "needs_background": "light"
     },
     "output_type": "display_data"
    }
   ],
   "source": [
    "sns.countplot(x='isPhishing', data=df, palette = 'magma')"
   ]
  },
  {
   "cell_type": "markdown",
   "metadata": {},
   "source": [
    "### Heatmap for our  data to find the correlation between length of word and Phishing URL"
   ]
  },
  {
   "cell_type": "code",
   "execution_count": 15,
   "metadata": {},
   "outputs": [
    {
     "data": {
      "text/html": [
       "<div>\n",
       "<style scoped>\n",
       "    .dataframe tbody tr th:only-of-type {\n",
       "        vertical-align: middle;\n",
       "    }\n",
       "\n",
       "    .dataframe tbody tr th {\n",
       "        vertical-align: top;\n",
       "    }\n",
       "\n",
       "    .dataframe thead th {\n",
       "        text-align: right;\n",
       "    }\n",
       "</style>\n",
       "<table border=\"1\" class=\"dataframe\">\n",
       "  <thead>\n",
       "    <tr style=\"text-align: right;\">\n",
       "      <th></th>\n",
       "      <th>largestWord</th>\n",
       "      <th>smallestWord</th>\n",
       "      <th>avgWord</th>\n",
       "      <th>isPhishing</th>\n",
       "      <th>SDlength</th>\n",
       "    </tr>\n",
       "  </thead>\n",
       "  <tbody>\n",
       "    <tr>\n",
       "      <th>largestWord</th>\n",
       "      <td>1.000000</td>\n",
       "      <td>-0.003353</td>\n",
       "      <td>0.898219</td>\n",
       "      <td>0.222350</td>\n",
       "      <td>0.986028</td>\n",
       "    </tr>\n",
       "    <tr>\n",
       "      <th>smallestWord</th>\n",
       "      <td>-0.003353</td>\n",
       "      <td>1.000000</td>\n",
       "      <td>0.145492</td>\n",
       "      <td>-0.112648</td>\n",
       "      <td>0.019200</td>\n",
       "    </tr>\n",
       "    <tr>\n",
       "      <th>avgWord</th>\n",
       "      <td>0.898219</td>\n",
       "      <td>0.145492</td>\n",
       "      <td>1.000000</td>\n",
       "      <td>0.213462</td>\n",
       "      <td>0.917836</td>\n",
       "    </tr>\n",
       "    <tr>\n",
       "      <th>isPhishing</th>\n",
       "      <td>0.222350</td>\n",
       "      <td>-0.112648</td>\n",
       "      <td>0.213462</td>\n",
       "      <td>1.000000</td>\n",
       "      <td>0.220580</td>\n",
       "    </tr>\n",
       "    <tr>\n",
       "      <th>SDlength</th>\n",
       "      <td>0.986028</td>\n",
       "      <td>0.019200</td>\n",
       "      <td>0.917836</td>\n",
       "      <td>0.220580</td>\n",
       "      <td>1.000000</td>\n",
       "    </tr>\n",
       "  </tbody>\n",
       "</table>\n",
       "</div>"
      ],
      "text/plain": [
       "              largestWord  smallestWord   avgWord  isPhishing  SDlength\n",
       "largestWord      1.000000     -0.003353  0.898219    0.222350  0.986028\n",
       "smallestWord    -0.003353      1.000000  0.145492   -0.112648  0.019200\n",
       "avgWord          0.898219      0.145492  1.000000    0.213462  0.917836\n",
       "isPhishing       0.222350     -0.112648  0.213462    1.000000  0.220580\n",
       "SDlength         0.986028      0.019200  0.917836    0.220580  1.000000"
      ]
     },
     "execution_count": 15,
     "metadata": {},
     "output_type": "execute_result"
    }
   ],
   "source": [
    "word_count = df.filter(['largestWord', 'smallestWord', 'avgWord', 'isPhishing', 'SDlength'], axis = 1)\n",
    "word_count.corr()"
   ]
  },
  {
   "cell_type": "code",
   "execution_count": 16,
   "metadata": {},
   "outputs": [
    {
     "data": {
      "text/plain": [
       "<matplotlib.axes._subplots.AxesSubplot at 0x16b6e2a1708>"
      ]
     },
     "execution_count": 16,
     "metadata": {},
     "output_type": "execute_result"
    },
    {
     "data": {
      "image/png": "[encoded data removed]",
      "text/plain": [
       "<Figure size 432x288 with 2 Axes>"
      ]
     },
     "metadata": {
      "needs_background": "light"
     },
     "output_type": "display_data"
    }
   ],
   "source": [
    "sns.heatmap(word_count.corr(), cmap = 'PuRd', annot = True)"
   ]
  },
  {
   "cell_type": "markdown",
   "metadata": {},
   "source": [
    "### Let us analyse the distribution of top level domains in phishing urls"
   ]
  },
  {
   "cell_type": "code",
   "execution_count": 17,
   "metadata": {},
   "outputs": [
    {
     "data": {
      "text/plain": [
       "<matplotlib.axes._subplots.AxesSubplot at 0x16b6e539748>"
      ]
     },
     "execution_count": 17,
     "metadata": {},
     "output_type": "execute_result"
    },
    {
     "data": {
      "image/png": "[encoded data removed]",
      "text/plain": [
       "<Figure size 432x288 with 1 Axes>"
      ]
     },
     "metadata": {
      "needs_background": "light"
     },
     "output_type": "display_data"
    }
   ],
   "source": [
    "sns.countplot(x=\"isPhishing\", data=df,hue = 'tld', palette='viridis')"
   ]
  },
  {
   "cell_type": "markdown",
   "metadata": {},
   "source": [
    "#### We can see that a majority of the Phishing sites have a top level domain in their url"
   ]
  },
  {
   "cell_type": "markdown",
   "metadata": {},
   "source": [
    "### Let us see the relation between Secured Sites (HTTPS Enabled) and Phishing URLs"
   ]
  },
  {
   "cell_type": "code",
   "execution_count": 18,
   "metadata": {},
   "outputs": [
    {
     "data": {
      "text/plain": [
       "<matplotlib.axes._subplots.AxesSubplot at 0x16b6e5943c8>"
      ]
     },
     "execution_count": 18,
     "metadata": {},
     "output_type": "execute_result"
    },
    {
     "data": {
      "image/png": "[encoded data removed]",
      "text/plain": [
       "<Figure size 432x288 with 1 Axes>"
      ]
     },
     "metadata": {
      "needs_background": "light"
     },
     "output_type": "display_data"
    }
   ],
   "source": [
    "sns.countplot(x=\"isPhishing\", data=df,hue = 'HTTPS', palette='Reds')"
   ]
  },
  {
   "cell_type": "markdown",
   "metadata": {},
   "source": [
    "#### Therefore we can see that most Phishing urls don't have HTTPs"
   ]
  },
  {
   "cell_type": "markdown",
   "metadata": {},
   "source": [
    "### Let us see the relation between 'www' and Phishing URLs\n"
   ]
  },
  {
   "cell_type": "code",
   "execution_count": 19,
   "metadata": {},
   "outputs": [
    {
     "data": {
      "text/plain": [
       "<matplotlib.axes._subplots.AxesSubplot at 0x16b6e611988>"
      ]
     },
     "execution_count": 19,
     "metadata": {},
     "output_type": "execute_result"
    },
    {
     "data": {
      "image/png": "[encoded data removed]",
      "text/plain": [
       "<Figure size 432x288 with 1 Axes>"
      ]
     },
     "metadata": {
      "needs_background": "light"
     },
     "output_type": "display_data"
    }
   ],
   "source": [
    "sns.countplot(x=\"isPhishing\", data=df,hue = 'WWW', palette='YlGnBu')"
   ]
  },
  {
   "cell_type": "markdown",
   "metadata": {},
   "source": [
    "#### Therefore we can see that most Phishing urls don't have 'www'"
   ]
  },
  {
   "cell_type": "markdown",
   "metadata": {},
   "source": [
    "### Let us see the relation between '.com' and Phishing URLs\n"
   ]
  },
  {
   "cell_type": "code",
   "execution_count": 20,
   "metadata": {},
   "outputs": [
    {
     "data": {
      "text/plain": [
       "<matplotlib.axes._subplots.AxesSubplot at 0x16b6d483648>"
      ]
     },
     "execution_count": 20,
     "metadata": {},
     "output_type": "execute_result"
    },
    {
     "data": {
      "image/png": "[encoded data removed]",
      "text/plain": [
       "<Figure size 432x288 with 1 Axes>"
      ]
     },
     "metadata": {
      "needs_background": "light"
     },
     "output_type": "display_data"
    }
   ],
   "source": [
    "sns.countplot(x=\"isPhishing\", data=df,hue = '.COM', palette='YlOrRd')"
   ]
  },
  {
   "cell_type": "markdown",
   "metadata": {},
   "source": [
    "#### Therefore we can see that a majority of Phishing urls have '.com'"
   ]
  },
  {
   "cell_type": "markdown",
   "metadata": {},
   "source": [
    "### Now, let us analyse the relation between brand name and phishing urls"
   ]
  },
  {
   "cell_type": "code",
   "execution_count": 21,
   "metadata": {},
   "outputs": [
    {
     "data": {
      "text/plain": [
       "<matplotlib.axes._subplots.AxesSubplot at 0x16b6e68e048>"
      ]
     },
     "execution_count": 21,
     "metadata": {},
     "output_type": "execute_result"
    },
    {
     "data": {
      "image/png": "[encoded data removed]",
      "text/plain": [
       "<Figure size 432x288 with 1 Axes>"
      ]
     },
     "metadata": {
      "needs_background": "light"
     },
     "output_type": "display_data"
    }
   ],
   "source": [
    "sns.countplot(x=\"isPhishing\", data=df,hue = 'brandName', palette='plasma')"
   ]
  },
  {
   "cell_type": "markdown",
   "metadata": {},
   "source": [
    "#### It is observed that a majority of Phishing URLs do not have a brandname in it."
   ]
  },
  {
   "cell_type": "markdown",
   "metadata": {},
   "source": [
    "### Let us see if secured sites have any relation with the domain length"
   ]
  },
  {
   "cell_type": "code",
   "execution_count": 22,
   "metadata": {},
   "outputs": [
    {
     "data": {
      "text/plain": [
       "<matplotlib.axes._subplots.AxesSubplot at 0x16b6e750b48>"
      ]
     },
     "execution_count": 22,
     "metadata": {},
     "output_type": "execute_result"
    },
    {
     "data": {
      "image/png": "[encoded data removed]",
      "text/plain": [
       "<Figure size 1152x288 with 3 Axes>"
      ]
     },
     "metadata": {
      "needs_background": "light"
     },
     "output_type": "display_data"
    }
   ],
   "source": [
    "fig, ax = plt.subplots(1, 3, figsize=(16,4))\n",
    "sns.violinplot(x=\"HTTPS\", y='domainLen', data=df,hue='isPhishing',split=True,palette='PuRd', ax = ax[0])\n",
    "sns.violinplot(x=\"HTTPS\", y='domainLen', data=df,hue='isPhishing',split = True, \n",
    "               palette='Purples', ax = ax[1])\n",
    "sns.violinplot(x=\"HTTPS\", y='domainLen', data=df,hue='isPhishing',split = True, \n",
    "               palette='RdPu', ax = ax[2])"
   ]
  },
  {
   "cell_type": "markdown",
   "metadata": {},
   "source": [
    "### Now, let us find the correlation between special characters and Phishing URLs and draw a heatmap"
   ]
  },
  {
   "cell_type": "code",
   "execution_count": 23,
   "metadata": {},
   "outputs": [
    {
     "data": {
      "text/html": [
       "<div>\n",
       "<style scoped>\n",
       "    .dataframe tbody tr th:only-of-type {\n",
       "        vertical-align: middle;\n",
       "    }\n",
       "\n",
       "    .dataframe tbody tr th {\n",
       "        vertical-align: top;\n",
       "    }\n",
       "\n",
       "    .dataframe thead th {\n",
       "        text-align: right;\n",
       "    }\n",
       "</style>\n",
       "<table border=\"1\" class=\"dataframe\">\n",
       "  <thead>\n",
       "    <tr style=\"text-align: right;\">\n",
       "      <th></th>\n",
       "      <th>underscore</th>\n",
       "      <th>dash</th>\n",
       "      <th>equal</th>\n",
       "      <th>slash</th>\n",
       "      <th>at</th>\n",
       "      <th>ampersand</th>\n",
       "      <th>question</th>\n",
       "      <th>isPhishing</th>\n",
       "    </tr>\n",
       "  </thead>\n",
       "  <tbody>\n",
       "    <tr>\n",
       "      <th>underscore</th>\n",
       "      <td>1.000000</td>\n",
       "      <td>-0.002702</td>\n",
       "      <td>1.000000</td>\n",
       "      <td>0.013393</td>\n",
       "      <td>0.407164</td>\n",
       "      <td>0.643480</td>\n",
       "      <td>0.911837</td>\n",
       "      <td>0.249945</td>\n",
       "    </tr>\n",
       "    <tr>\n",
       "      <th>dash</th>\n",
       "      <td>-0.002702</td>\n",
       "      <td>1.000000</td>\n",
       "      <td>-0.002702</td>\n",
       "      <td>-0.009054</td>\n",
       "      <td>0.006085</td>\n",
       "      <td>0.038778</td>\n",
       "      <td>-0.018298</td>\n",
       "      <td>-0.178032</td>\n",
       "    </tr>\n",
       "    <tr>\n",
       "      <th>equal</th>\n",
       "      <td>1.000000</td>\n",
       "      <td>-0.002702</td>\n",
       "      <td>1.000000</td>\n",
       "      <td>0.013393</td>\n",
       "      <td>0.407164</td>\n",
       "      <td>0.643480</td>\n",
       "      <td>0.911837</td>\n",
       "      <td>0.249945</td>\n",
       "    </tr>\n",
       "    <tr>\n",
       "      <th>slash</th>\n",
       "      <td>0.013393</td>\n",
       "      <td>-0.009054</td>\n",
       "      <td>0.013393</td>\n",
       "      <td>1.000000</td>\n",
       "      <td>0.005901</td>\n",
       "      <td>0.008802</td>\n",
       "      <td>0.013619</td>\n",
       "      <td>-0.040626</td>\n",
       "    </tr>\n",
       "    <tr>\n",
       "      <th>at</th>\n",
       "      <td>0.407164</td>\n",
       "      <td>0.006085</td>\n",
       "      <td>0.407164</td>\n",
       "      <td>0.005901</td>\n",
       "      <td>1.000000</td>\n",
       "      <td>0.197186</td>\n",
       "      <td>0.412971</td>\n",
       "      <td>0.173623</td>\n",
       "    </tr>\n",
       "    <tr>\n",
       "      <th>ampersand</th>\n",
       "      <td>0.643480</td>\n",
       "      <td>0.038778</td>\n",
       "      <td>0.643480</td>\n",
       "      <td>0.008802</td>\n",
       "      <td>0.197186</td>\n",
       "      <td>1.000000</td>\n",
       "      <td>0.632241</td>\n",
       "      <td>0.211493</td>\n",
       "    </tr>\n",
       "    <tr>\n",
       "      <th>question</th>\n",
       "      <td>0.911837</td>\n",
       "      <td>-0.018298</td>\n",
       "      <td>0.911837</td>\n",
       "      <td>0.013619</td>\n",
       "      <td>0.412971</td>\n",
       "      <td>0.632241</td>\n",
       "      <td>1.000000</td>\n",
       "      <td>0.256475</td>\n",
       "    </tr>\n",
       "    <tr>\n",
       "      <th>isPhishing</th>\n",
       "      <td>0.249945</td>\n",
       "      <td>-0.178032</td>\n",
       "      <td>0.249945</td>\n",
       "      <td>-0.040626</td>\n",
       "      <td>0.173623</td>\n",
       "      <td>0.211493</td>\n",
       "      <td>0.256475</td>\n",
       "      <td>1.000000</td>\n",
       "    </tr>\n",
       "  </tbody>\n",
       "</table>\n",
       "</div>"
      ],
      "text/plain": [
       "            underscore      dash     equal     slash        at  ampersand  \\\n",
       "underscore    1.000000 -0.002702  1.000000  0.013393  0.407164   0.643480   \n",
       "dash         -0.002702  1.000000 -0.002702 -0.009054  0.006085   0.038778   \n",
       "equal         1.000000 -0.002702  1.000000  0.013393  0.407164   0.643480   \n",
       "slash         0.013393 -0.009054  0.013393  1.000000  0.005901   0.008802   \n",
       "at            0.407164  0.006085  0.407164  0.005901  1.000000   0.197186   \n",
       "ampersand     0.643480  0.038778  0.643480  0.008802  0.197186   1.000000   \n",
       "question      0.911837 -0.018298  0.911837  0.013619  0.412971   0.632241   \n",
       "isPhishing    0.249945 -0.178032  0.249945 -0.040626  0.173623   0.211493   \n",
       "\n",
       "            question  isPhishing  \n",
       "underscore  0.911837    0.249945  \n",
       "dash       -0.018298   -0.178032  \n",
       "equal       0.911837    0.249945  \n",
       "slash       0.013619   -0.040626  \n",
       "at          0.412971    0.173623  \n",
       "ampersand   0.632241    0.211493  \n",
       "question    1.000000    0.256475  \n",
       "isPhishing  0.256475    1.000000  "
      ]
     },
     "execution_count": 23,
     "metadata": {},
     "output_type": "execute_result"
    }
   ],
   "source": [
    "special_char = df.filter(['underscore', 'dash', 'equal', 'slash', 'at', 'ampersand', 'question', 'isPhishing'], axis = 1)\n",
    "special_char.corr()"
   ]
  },
  {
   "cell_type": "code",
   "execution_count": 24,
   "metadata": {},
   "outputs": [
    {
     "data": {
      "text/plain": [
       "<matplotlib.axes._subplots.AxesSubplot at 0x16b6e864188>"
      ]
     },
     "execution_count": 24,
     "metadata": {},
     "output_type": "execute_result"
    },
    {
     "data": {
      "image/png": "[encoded data removed]",
      "text/plain": [
       "<Figure size 432x288 with 2 Axes>"
      ]
     },
     "metadata": {
      "needs_background": "light"
     },
     "output_type": "display_data"
    }
   ],
   "source": [
    "sns.heatmap(special_char.corr(), cmap = 'viridis')"
   ]
  },
  {
   "cell_type": "markdown",
   "metadata": {},
   "source": [
    "### Let us see if 'http', 'www', '.com' , count of keywords, presence of a top level domain and phishing sites are correlated"
   ]
  },
  {
   "cell_type": "code",
   "execution_count": 25,
   "metadata": {},
   "outputs": [
    {
     "data": {
      "text/html": [
       "<div>\n",
       "<style scoped>\n",
       "    .dataframe tbody tr th:only-of-type {\n",
       "        vertical-align: middle;\n",
       "    }\n",
       "\n",
       "    .dataframe tbody tr th {\n",
       "        vertical-align: top;\n",
       "    }\n",
       "\n",
       "    .dataframe thead th {\n",
       "        text-align: right;\n",
       "    }\n",
       "</style>\n",
       "<table border=\"1\" class=\"dataframe\">\n",
       "  <thead>\n",
       "    <tr style=\"text-align: right;\">\n",
       "      <th></th>\n",
       "      <th>HTTPS</th>\n",
       "      <th>WWW</th>\n",
       "      <th>.COM</th>\n",
       "      <th>brandName</th>\n",
       "      <th>isPhishing</th>\n",
       "      <th>keywordCount</th>\n",
       "      <th>tld</th>\n",
       "    </tr>\n",
       "  </thead>\n",
       "  <tbody>\n",
       "    <tr>\n",
       "      <th>HTTPS</th>\n",
       "      <td>1.000000</td>\n",
       "      <td>0.073499</td>\n",
       "      <td>0.020449</td>\n",
       "      <td>0.220927</td>\n",
       "      <td>-0.419553</td>\n",
       "      <td>-0.126599</td>\n",
       "      <td>0.193444</td>\n",
       "    </tr>\n",
       "    <tr>\n",
       "      <th>WWW</th>\n",
       "      <td>0.073499</td>\n",
       "      <td>1.000000</td>\n",
       "      <td>0.150655</td>\n",
       "      <td>-0.083699</td>\n",
       "      <td>-0.318677</td>\n",
       "      <td>-0.024269</td>\n",
       "      <td>0.153568</td>\n",
       "    </tr>\n",
       "    <tr>\n",
       "      <th>.COM</th>\n",
       "      <td>0.020449</td>\n",
       "      <td>0.150655</td>\n",
       "      <td>1.000000</td>\n",
       "      <td>0.005254</td>\n",
       "      <td>-0.041466</td>\n",
       "      <td>0.271680</td>\n",
       "      <td>0.532751</td>\n",
       "    </tr>\n",
       "    <tr>\n",
       "      <th>brandName</th>\n",
       "      <td>0.220927</td>\n",
       "      <td>-0.083699</td>\n",
       "      <td>0.005254</td>\n",
       "      <td>1.000000</td>\n",
       "      <td>-0.020883</td>\n",
       "      <td>0.007188</td>\n",
       "      <td>0.051035</td>\n",
       "    </tr>\n",
       "    <tr>\n",
       "      <th>isPhishing</th>\n",
       "      <td>-0.419553</td>\n",
       "      <td>-0.318677</td>\n",
       "      <td>-0.041466</td>\n",
       "      <td>-0.020883</td>\n",
       "      <td>1.000000</td>\n",
       "      <td>0.248054</td>\n",
       "      <td>-0.284600</td>\n",
       "    </tr>\n",
       "    <tr>\n",
       "      <th>keywordCount</th>\n",
       "      <td>-0.126599</td>\n",
       "      <td>-0.024269</td>\n",
       "      <td>0.271680</td>\n",
       "      <td>0.007188</td>\n",
       "      <td>0.248054</td>\n",
       "      <td>1.000000</td>\n",
       "      <td>0.049654</td>\n",
       "    </tr>\n",
       "    <tr>\n",
       "      <th>tld</th>\n",
       "      <td>0.193444</td>\n",
       "      <td>0.153568</td>\n",
       "      <td>0.532751</td>\n",
       "      <td>0.051035</td>\n",
       "      <td>-0.284600</td>\n",
       "      <td>0.049654</td>\n",
       "      <td>1.000000</td>\n",
       "    </tr>\n",
       "  </tbody>\n",
       "</table>\n",
       "</div>"
      ],
      "text/plain": [
       "                 HTTPS       WWW      .COM  brandName  isPhishing  \\\n",
       "HTTPS         1.000000  0.073499  0.020449   0.220927   -0.419553   \n",
       "WWW           0.073499  1.000000  0.150655  -0.083699   -0.318677   \n",
       ".COM          0.020449  0.150655  1.000000   0.005254   -0.041466   \n",
       "brandName     0.220927 -0.083699  0.005254   1.000000   -0.020883   \n",
       "isPhishing   -0.419553 -0.318677 -0.041466  -0.020883    1.000000   \n",
       "keywordCount -0.126599 -0.024269  0.271680   0.007188    0.248054   \n",
       "tld           0.193444  0.153568  0.532751   0.051035   -0.284600   \n",
       "\n",
       "              keywordCount       tld  \n",
       "HTTPS            -0.126599  0.193444  \n",
       "WWW              -0.024269  0.153568  \n",
       ".COM              0.271680  0.532751  \n",
       "brandName         0.007188  0.051035  \n",
       "isPhishing        0.248054 -0.284600  \n",
       "keywordCount      1.000000  0.049654  \n",
       "tld               0.049654  1.000000  "
      ]
     },
     "execution_count": 25,
     "metadata": {},
     "output_type": "execute_result"
    }
   ],
   "source": [
    "urltype = df.filter(['HTTPS', 'WWW', '.COM', 'brandName', 'isPhishing', 'keywordCount','tld'], axis = 1)\n",
    "urltype.corr()"
   ]
  },
  {
   "cell_type": "code",
   "execution_count": 26,
   "metadata": {},
   "outputs": [
    {
     "data": {
      "text/plain": [
       "<matplotlib.axes._subplots.AxesSubplot at 0x16b6e8e8888>"
      ]
     },
     "execution_count": 26,
     "metadata": {},
     "output_type": "execute_result"
    },
    {
     "data": {
      "image/png": "[encoded data removed]",
      "text/plain": [
       "<Figure size 432x288 with 2 Axes>"
      ]
     },
     "metadata": {
      "needs_background": "light"
     },
     "output_type": "display_data"
    }
   ],
   "source": [
    "sns.heatmap(urltype.corr(), cmap = 'Reds')"
   ]
  },
  {
   "cell_type": "markdown",
   "metadata": {},
   "source": [
    "### Now let us examine the relation between domain length and raw length"
   ]
  },
  {
   "cell_type": "code",
   "execution_count": 27,
   "metadata": {},
   "outputs": [
    {
     "data": {
      "text/plain": [
       "<seaborn.axisgrid.JointGrid at 0x16b6e98e348>"
      ]
     },
     "execution_count": 27,
     "metadata": {},
     "output_type": "execute_result"
    },
    {
     "data": {
      "image/png": "[encoded data removed]",
      "text/plain": [
       "<Figure size 432x432 with 3 Axes>"
      ]
     },
     "metadata": {
      "needs_background": "light"
     },
     "output_type": "display_data"
    }
   ],
   "source": [
    "sns.jointplot(x='RawLength',y='domainLen',data=df,kind='scatter')"
   ]
  }
 ],
 "metadata": {
  "kernelspec": {
   "display_name": "Python 3",
   "language": "python",
   "name": "python3"
  },
  "language_info": {
   "codemirror_mode": {
    "name": "ipython",
    "version": 3
   },
   "file_extension": ".py",
   "mimetype": "text/x-python",
   "name": "python",
   "nbconvert_exporter": "python",
   "pygments_lexer": "ipython3",
   "version": "3.7.6"
  }
 },
 "nbformat": 4,
 "nbformat_minor": 4
}
